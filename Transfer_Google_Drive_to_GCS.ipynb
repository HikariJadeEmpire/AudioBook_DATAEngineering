{
  "nbformat": 4,
  "nbformat_minor": 0,
  "metadata": {
    "colab": {
      "provenance": [],
      "include_colab_link": true
    },
    "kernelspec": {
      "name": "python3",
      "display_name": "Python 3"
    }
  },
  "cells": [
    {
      "cell_type": "markdown",
      "metadata": {
        "id": "view-in-github",
        "colab_type": "text"
      },
      "source": [
        "<a href=\"https://colab.research.google.com/github/HikariJadeEmpire/AudioBook_DATAEngineering/blob/main/Transfer_Google_Drive_to_GCS.ipynb\" target=\"_parent\"><img src=\"https://colab.research.google.com/assets/colab-badge.svg\" alt=\"Open In Colab\"/></a>"
      ]
    },
    {
      "cell_type": "markdown",
      "metadata": {
        "id": "OPk9CrZM8bXx"
      },
      "source": [
        "# Transferring data from Google Drive to Google Cloud Storage\n",
        "This example shows how to transfer files from your Google Drive to a Google Cloud Storage project. We mount Google Drive using the google colab tools which requires authenticating in a separate brower window. Then we authenticate and connect our Google Cloud Storage project, list all buckets, and start copying files from Google Drive to our bucket."
      ]
    },
    {
      "cell_type": "code",
      "metadata": {
        "id": "gYyUbZ9j01LG",
        "colab": {
          "base_uri": "https://localhost:8080/"
        },
        "outputId": "612dae25-ea2f-47ce-9cf1-a0b2ce4ab445"
      },
      "source": [
        "from google.colab import drive\n",
        "drive.mount('/content/drive')"
      ],
      "execution_count": null,
      "outputs": [
        {
          "output_type": "stream",
          "name": "stdout",
          "text": [
            "Mounted at /content/drive\n"
          ]
        }
      ]
    },
    {
      "cell_type": "code",
      "metadata": {
        "id": "aehvgY-u7zRe",
        "colab": {
          "base_uri": "https://localhost:8080/"
        },
        "outputId": "1b1c31c1-840c-4094-8efb-e186991a5520"
      },
      "source": [
        "from google.colab import auth\n",
        "auth.authenticate_user()\n",
        "\n",
        "project_id = 'hikarijade-empire'\n",
        "\n",
        "!gcloud config set project {project_id}\n",
        "!gsutil ls\n"
      ],
      "execution_count": null,
      "outputs": [
        {
          "output_type": "stream",
          "name": "stdout",
          "text": [
            "Updated property [core/project].\n",
            "gs://hikari-bucket/\n"
          ]
        }
      ]
    },
    {
      "cell_type": "code",
      "metadata": {
        "id": "bFfQadlr0_Wy",
        "colab": {
          "base_uri": "https://localhost:8080/"
        },
        "outputId": "965e94fe-d891-4062-e20f-4460a125c555"
      },
      "source": [
        "bucket_name = 'hikari-bucket'\n",
        "\n",
        "!gsutil -m cp -r /content/drive/MyDrive/myColab_Notebooks/* gs://{bucket_name}/"
      ],
      "execution_count": null,
      "outputs": [
        {
          "output_type": "stream",
          "name": "stdout",
          "text": [
            "Copying file:///content/drive/MyDrive/myColab_Notebooks/S01_DATACollection.ipynb [Content-Type=application/octet-stream]...\n",
            "/ [0/7 files][    0.0 B/690.2 MiB]   0% Done                                    \rCopying file:///content/drive/MyDrive/myColab_Notebooks/Cleaned_Data_Single.csv/part-00000-d30124e5-2751-41b4-8537-d47fbb757575-c000.csv [Content-Type=text/csv]...\n",
            "Copying file:///content/drive/MyDrive/myColab_Notebooks/Cleaned_Data_Single.csv/.part-00000-d30124e5-2751-41b4-8537-d47fbb757575-c000.csv.crc [Content-Type=application/octet-stream]...\n",
            "/ [0/7 files][    0.0 B/690.2 MiB]   0% Done                                    \r/ [0/7 files][    0.0 B/690.2 MiB]   0% Done                                    \rCopying file:///content/drive/MyDrive/myColab_Notebooks/S02_DATACleansing_Spark.ipynb [Content-Type=application/octet-stream]...\n",
            "/ [0/7 files][    0.0 B/690.2 MiB]   0% Done                                    \r==> NOTE: You are uploading one or more large file(s), which would run\n",
            "significantly faster if you enable parallel composite uploads. This\n",
            "feature can be enabled by editing the\n",
            "\"parallel_composite_upload_threshold\" value in your .boto\n",
            "configuration file. However, note that if you do this large files will\n",
            "be uploaded as `composite objects\n",
            "<https://cloud.google.com/storage/docs/composite-objects>`_,which\n",
            "means that any user who downloads such objects will need to have a\n",
            "compiled crcmod installed (see \"gsutil help crcmod\"). This is because\n",
            "without a compiled crcmod, computing checksums on composite objects is\n",
            "so slow that gsutil disables downloads of composite objects.\n",
            "\n",
            "Copying file:///content/drive/MyDrive/myColab_Notebooks/Cleaned_Data_Single.csv/_SUCCESS [Content-Type=application/octet-stream]...\n",
            "/ [0/7 files][    0.0 B/690.2 MiB]   0% Done                                    \rCopying file:///content/drive/MyDrive/myColab_Notebooks/Cleaned_Data_Single.csv/._SUCCESS.crc [Content-Type=application/octet-stream]...\n",
            "Copying file:///content/drive/MyDrive/myColab_Notebooks/myData.csv [Content-Type=text/csv]...\n",
            "\\ [7/7 files][690.2 MiB/690.2 MiB] 100% Done  23.2 MiB/s ETA 00:00:00           \n",
            "Operation completed over 7 objects/690.2 MiB.                                    \n"
          ]
        }
      ]
    }
  ]
}