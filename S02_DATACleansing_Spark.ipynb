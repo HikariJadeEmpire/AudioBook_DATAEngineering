{
  "cells": [
    {
      "cell_type": "markdown",
      "metadata": {
        "id": "view-in-github",
        "colab_type": "text"
      },
      "source": [
        "<a href=\"https://colab.research.google.com/github/HikariJadeEmpire/AudioBook_DATAEngineering/blob/main/S02_DATACleansing_Spark.ipynb\" target=\"_parent\"><img src=\"https://colab.research.google.com/assets/colab-badge.svg\" alt=\"Open In Colab\"/></a>"
      ]
    },
    {
      "cell_type": "code",
      "execution_count": 1,
      "metadata": {
        "colab": {
          "base_uri": "https://localhost:8080/"
        },
        "id": "4QyOwBJ6jcWe",
        "outputId": "51ff5396-ab22-4e7f-d797-5757daaa234b"
      },
      "outputs": [
        {
          "output_type": "stream",
          "name": "stdout",
          "text": [
            "Drive already mounted at /content/drive; to attempt to forcibly remount, call drive.mount(\"/content/drive\", force_remount=True).\n"
          ]
        }
      ],
      "source": [
        "from google.colab import drive\n",
        "drive.mount('/content/drive')"
      ]
    },
    {
      "cell_type": "markdown",
      "metadata": {
        "id": "LgPDg3mTj-Iv"
      },
      "source": [
        "# In this file, I will :\n",
        "\n",
        "Clean the data using PySpark, follow the steps below:\n",
        "- Data profiling\n",
        "- EDA\n",
        "- Anomaly Detection with PySpark\n",
        "- Export"
      ]
    },
    {
      "cell_type": "markdown",
      "metadata": {
        "id": "RlfdKbmp2RU8"
      },
      "source": [
        "First, we will prepare the necessary tools."
      ]
    },
    {
      "cell_type": "code",
      "execution_count": null,
      "metadata": {
        "id": "KDPiihTtdvPo"
      },
      "outputs": [],
      "source": [
        "!apt-get update                                                                           # Update all Package in this VM\n",
        "!apt-get install openjdk-8-jdk-headless -qq > /dev/null                                   # install Java Development Kit (Spark requires this)\n",
        "!wget -q https://archive.apache.org/dist/spark/spark-3.1.2/spark-3.1.2-bin-hadoop2.7.tgz  # install Spark 3.1.2\n",
        "!tar xzvf spark-3.1.2-bin-hadoop2.7.tgz                                                   # Unzip Spark 3.1.2\n",
        "!pip install -q findspark==1.3.0                                                          # To connect with Spark, install the required Python package."
      ]
    },
    {
      "cell_type": "code",
      "execution_count": 1,
      "metadata": {
        "id": "Gi4dcrqL3dOh"
      },
      "outputs": [],
      "source": [
        "# To make Python recognize Spark, set the environment variable.\n",
        "import os\n",
        "\n",
        "os.environ[\"JAVA_HOME\"] = \"/usr/lib/jvm/java-8-openjdk-amd64\"\n",
        "os.environ[\"SPARK_HOME\"] = \"/content/spark-3.1.2-bin-hadoop2.7\""
      ]
    },
    {
      "cell_type": "code",
      "execution_count": 2,
      "metadata": {
        "colab": {
          "base_uri": "https://localhost:8080/"
        },
        "id": "UPNaYgB04KSK",
        "outputId": "5b211f76-3693-47de-a3cb-697a0716196d"
      },
      "outputs": [
        {
          "output_type": "stream",
          "name": "stdout",
          "text": [
            "drive  sample_data  spark-3.1.2-bin-hadoop2.7  spark-3.1.2-bin-hadoop2.7.tgz\n"
          ]
        }
      ],
      "source": [
        "! ls"
      ]
    },
    {
      "cell_type": "code",
      "execution_count": 5,
      "metadata": {
        "id": "nEN48Qcs317W",
        "colab": {
          "base_uri": "https://localhost:8080/"
        },
        "outputId": "b177f81b-b48e-4110-86de-e4e471d83a15"
      },
      "outputs": [
        {
          "output_type": "stream",
          "name": "stdout",
          "text": [
            "Requirement already satisfied: pyspark==3.1.2 in /usr/local/lib/python3.10/dist-packages (3.1.2)\n",
            "Requirement already satisfied: py4j==0.10.9 in /usr/local/lib/python3.10/dist-packages (from pyspark==3.1.2) (0.10.9)\n"
          ]
        }
      ],
      "source": [
        "# Install PySpark to Python\n",
        "\n",
        "!pip install pyspark==3.1.2"
      ]
    },
    {
      "cell_type": "code",
      "execution_count": 6,
      "metadata": {
        "colab": {
          "base_uri": "https://localhost:8080/"
        },
        "id": "CrZ1Pr-Z4cBI",
        "outputId": "c9a3b1fa-b52e-4b85-8bd7-1a917cf747ee"
      },
      "outputs": [
        {
          "output_type": "stream",
          "name": "stdout",
          "text": [
            "processor\t: 0\n",
            "vendor_id\t: GenuineIntel\n",
            "cpu family\t: 6\n",
            "model\t\t: 79\n",
            "model name\t: Intel(R) Xeon(R) CPU @ 2.20GHz\n",
            "stepping\t: 0\n",
            "microcode\t: 0xffffffff\n",
            "cpu MHz\t\t: 2200.166\n",
            "cache size\t: 56320 KB\n",
            "physical id\t: 0\n",
            "siblings\t: 2\n",
            "core id\t\t: 0\n",
            "cpu cores\t: 1\n",
            "apicid\t\t: 0\n",
            "initial apicid\t: 0\n",
            "fpu\t\t: yes\n",
            "fpu_exception\t: yes\n",
            "cpuid level\t: 13\n",
            "wp\t\t: yes\n",
            "flags\t\t: fpu vme de pse tsc msr pae mce cx8 apic sep mtrr pge mca cmov pat pse36 clflush mmx fxsr sse sse2 ss ht syscall nx pdpe1gb rdtscp lm constant_tsc rep_good nopl xtopology nonstop_tsc cpuid tsc_known_freq pni pclmulqdq ssse3 fma cx16 pcid sse4_1 sse4_2 x2apic movbe popcnt aes xsave avx f16c rdrand hypervisor lahf_lm abm 3dnowprefetch invpcid_single ssbd ibrs ibpb stibp fsgsbase tsc_adjust bmi1 hle avx2 smep bmi2 erms invpcid rtm rdseed adx smap xsaveopt arat md_clear arch_capabilities\n",
            "bugs\t\t: cpu_meltdown spectre_v1 spectre_v2 spec_store_bypass l1tf mds swapgs taa mmio_stale_data retbleed\n",
            "bogomips\t: 4400.33\n",
            "clflush size\t: 64\n",
            "cache_alignment\t: 64\n",
            "address sizes\t: 46 bits physical, 48 bits virtual\n",
            "power management:\n",
            "\n",
            "processor\t: 1\n",
            "vendor_id\t: GenuineIntel\n",
            "cpu family\t: 6\n",
            "model\t\t: 79\n",
            "model name\t: Intel(R) Xeon(R) CPU @ 2.20GHz\n",
            "stepping\t: 0\n",
            "microcode\t: 0xffffffff\n",
            "cpu MHz\t\t: 2200.166\n",
            "cache size\t: 56320 KB\n",
            "physical id\t: 0\n",
            "siblings\t: 2\n",
            "core id\t\t: 0\n",
            "cpu cores\t: 1\n",
            "apicid\t\t: 1\n",
            "initial apicid\t: 1\n",
            "fpu\t\t: yes\n",
            "fpu_exception\t: yes\n",
            "cpuid level\t: 13\n",
            "wp\t\t: yes\n",
            "flags\t\t: fpu vme de pse tsc msr pae mce cx8 apic sep mtrr pge mca cmov pat pse36 clflush mmx fxsr sse sse2 ss ht syscall nx pdpe1gb rdtscp lm constant_tsc rep_good nopl xtopology nonstop_tsc cpuid tsc_known_freq pni pclmulqdq ssse3 fma cx16 pcid sse4_1 sse4_2 x2apic movbe popcnt aes xsave avx f16c rdrand hypervisor lahf_lm abm 3dnowprefetch invpcid_single ssbd ibrs ibpb stibp fsgsbase tsc_adjust bmi1 hle avx2 smep bmi2 erms invpcid rtm rdseed adx smap xsaveopt arat md_clear arch_capabilities\n",
            "bugs\t\t: cpu_meltdown spectre_v1 spectre_v2 spec_store_bypass l1tf mds swapgs taa mmio_stale_data retbleed\n",
            "bogomips\t: 4400.33\n",
            "clflush size\t: 64\n",
            "cache_alignment\t: 64\n",
            "address sizes\t: 46 bits physical, 48 bits virtual\n",
            "power management:\n",
            "\n"
          ]
        }
      ],
      "source": [
        "# Check the Google Colab server's core. (cpu cores)\n",
        "\n",
        "!cat /proc/cpuinfo"
      ]
    },
    {
      "cell_type": "code",
      "execution_count": 2,
      "metadata": {
        "id": "CVthRD7g4sb1"
      },
      "outputs": [],
      "source": [
        "# Create Spark Session\n",
        "\n",
        "from pyspark.sql import SparkSession\n",
        "\n",
        "spark = SparkSession.builder.master(\"local[*]\").getOrCreate()"
      ]
    },
    {
      "cell_type": "markdown",
      "metadata": {
        "id": "UYpEeu2K42mx"
      },
      "source": [
        "To perform a multi-core operation and utilize all available CPU cores using Spark, we use ```local[*]```"
      ]
    },
    {
      "cell_type": "code",
      "execution_count": 4,
      "metadata": {
        "colab": {
          "base_uri": "https://localhost:8080/"
        },
        "id": "sWc3BAp059hd",
        "outputId": "998a74a4-995e-45c8-9b08-22fe7a340975"
      },
      "outputs": [
        {
          "output_type": "stream",
          "name": "stdout",
          "text": [
            "Python version : 3.10.12 (main, Jun  7 2023, 12:45:35) [GCC 9.4.0]\n",
            "Spark version : 3.1.2\n"
          ]
        }
      ],
      "source": [
        "import sys\n",
        "\n",
        "print(f'Python version : {sys.version}\\nSpark version : {spark.version}')"
      ]
    },
    {
      "cell_type": "markdown",
      "metadata": {
        "id": "vweHkbQEA9xu"
      },
      "source": [
        "# DATA Profiling"
      ]
    },
    {
      "cell_type": "code",
      "execution_count": 3,
      "metadata": {
        "id": "nnNeUFf9_Tr_"
      },
      "outputs": [],
      "source": [
        "df = spark.read.csv('/content/drive/MyDrive/myColab_Notebooks/myData.csv', header = True, inferSchema = True, )"
      ]
    },
    {
      "cell_type": "markdown",
      "source": [
        "## Tips\n",
        "To convert Pandas dataframe to Spark dataframe :\n",
        "\n",
        "```\n",
        "sparkDF = spark.createDataFrame(pandasDF)\n",
        "\n",
        "```"
      ],
      "metadata": {
        "id": "FWH1fYIZdw5n"
      }
    },
    {
      "cell_type": "code",
      "execution_count": 6,
      "metadata": {
        "colab": {
          "base_uri": "https://localhost:8080/"
        },
        "id": "vdhtEFoMA9Oa",
        "outputId": "0653fdb9-230b-470b-9f53-0a6de291849f"
      },
      "outputs": [
        {
          "output_type": "stream",
          "name": "stdout",
          "text": [
            "+-------------------+--------+--------+--------------------+--------+--------------------+--------------------+------------------+-------------------+------------------+--------------------+--------------------+------+--------------------+-----+---------------+------------------+\n",
            "|          timestamp| user_id|book_id2|             country|Book_ID4|          Book Title|       Book Subtitle|       Book Author|      Book Narrator|     Audio Runtime|      Audiobook_Type|          Categories|Rating|Total No. of Ratings|Price|conversion_rate|         THB_Price|\n",
            "+-------------------+--------+--------+--------------------+--------+--------------------+--------------------+------------------+-------------------+------------------+--------------------+--------------------+------+--------------------+-----+---------------+------------------+\n",
            "|2021-05-01 00:00:01|ad8eca41|    1584|            Portugal|    1584|        Sycamore Row|                null|      John Grisham|       Michael Beck|20 hrs and 46 mins|Unabridged Audiobook|Mystery, Thriller...|   4.6|             25863.0| 35.0|          31.14|            1089.9|\n",
            "|2021-05-01 00:00:03|561b26c1|     829|United States of ...|     829|The 5 Love Langua...|The Secret to Lov...|      Gary Chapman|        Chris Fabry| 5 hrs and 48 mins|Unabridged Audiobook|Relationships, Pa...|   4.8|              2441.0|19.59|          31.14|          610.0326|\n",
            "|2021-05-01 00:00:04|81f149e5|    1391|               Japan|    1391|       The Guardians|             A Novel|      John Grisham|       Michael Beck|11 hrs and 50 mins|Unabridged Audiobook|Mystery, Thriller...|   4.6|             26781.0| 31.5|          31.14|            980.91|\n",
            "|2021-05-01 00:00:07|4f218413|    1586|              Taiwan|    1586|  How to Be a 3% Man|                null|       Corey Wayne|        Corey Wayne| 7 hrs and 33 mins|Unabridged Audiobook|Relationships, Pa...|   4.8|             11459.0|19.95|          31.14| 621.2429999999999|\n",
            "|2021-05-01 00:00:18|a4066781|     300|United States of ...|     300|Napoleon Hill's O...|The Secret to Fre...|     Napoleon Hill|    Dan John Miller| 5 hrs and 51 mins|Unabridged Audiobook|  Business & Careers|   4.8|              9305.0|17.49|          31.14|          544.6386|\n",
            "|2021-05-01 00:00:21|bbbd603a|    1377|United States of ...|    1377|       The Institute|             A Novel|      Stephen King|    Santino Fontana|18 hrs and 59 mins|Unabridged Audiobook|Literature & Fiction|   4.6|             35443.0|34.99|          31.14|         1089.5886|\n",
            "|2021-05-01 00:00:22|f636754b|     342|              Canada|     342|    A Clash of Kings|A Song of Ice and...|George R.R. Martin|        Roy Dotrice|37 hrs and 12 mins|Unabridged Audiobook|Science Fiction &...|   4.8|             79031.0| 63.0|          31.14|           1961.82|\n",
            "|2021-05-01 00:00:26|0eea4bbd|    1600|United States of ...|    1600|               Exile|Legend of Drizzt:...|   R. A. Salvatore|      Victor Bevine|10 hrs and 42 mins|Unabridged Audiobook|Science Fiction &...|   4.7|              9241.0|24.95|          31.14|           776.943|\n",
            "|2021-05-01 00:00:26|30b900d5|    1556|             Algeria|    1556|Arcanum Unbounded...|                null| Brandon Sanderson|     Michael Kramer|22 hrs and 31 mins|Unabridged Audiobook|Literature & Fiction|   4.8|             14108.0|48.99|          31.14|         1525.5486|\n",
            "|2021-05-01 00:00:28|a208d42a|     790|United States of ...|     790|         Dark Matter|             A Novel|      Blake Crouch|      Jon Lindstrom| 10 hrs and 8 mins|Unabridged Audiobook|Mystery, Thriller...|   4.4|             23618.0| 28.0|          31.14| 871.9200000000001|\n",
            "|2021-05-01 00:00:31|1d4e0721|     630|              Canada|     630|    The Final Empire|     Mistborn Book 1| Brandon Sanderson|     Michael Kramer|24 hrs and 39 mins|Unabridged Audiobook|Science Fiction &...|   4.8|             65789.0|55.93|          31.14|         1741.6602|\n",
            "|2021-05-01 00:00:34|9711795f|    1561|              France|    1561|        Morning Star|Book III of the R...|      Pierce Brown|Tim Gerard Reynolds|21 hrs and 50 mins|Unabridged Audiobook|Science Fiction &...|   4.8|             36539.0|31.49|          31.14| 980.5985999999999|\n",
            "|2021-05-01 00:00:40|9901d75d|     788|             Jamaica|     788|        Freakonomics|     Revised Edition|  Steven D. Levitt|  Stephen J. Dubner| 7 hrs and 51 mins|Unabridged Audiobook|     Money & Finance|   4.4|             11050.0|27.37|          31.14| 852.3018000000001|\n",
            "|2021-05-01 00:00:46|790ad1df|     524|         New Zealand|     524|     The Kite Runner|                null|   Khaled Hosseini|    Khaled Hosseini|  12 hrs and 1 min|Unabridged Audiobook|Literature & Fiction|   4.6|             16164.0|31.93|          31.14|          994.3002|\n",
            "|2021-05-01 00:00:47|980adb4b|      74|     United Kingdom |      74|                Dune|                null|     Frank Herbert|        Scott Brick| 21 hrs and 2 mins|Unabridged Audiobook|Science Fiction &...|   4.6|             73222.0|47.93|          31.14|         1492.5402|\n",
            "|2021-05-01 00:00:48|648070f7|     771|             Austria|     771|       The Stone Sky|                null|     N. K. Jemisin|        Robin Miles|14 hrs and 16 mins|Unabridged Audiobook|Literature & Fiction|   4.6|             10045.0| 28.5|          31.14|            887.49|\n",
            "|2021-05-01 00:00:52|69516255|     558|         South Korea|     558|Harry Potter and ...|                null|      J.K. Rowling|           Jim Dale|18 hrs and 32 mins|Unabridged Audiobook|Children's Audiob...|   4.9|             72599.0|44.99|          31.14|1400.9886000000001|\n",
            "|2021-05-01 00:01:00|baf598c3|    1429|         Philippines|    1429|          11/22/1963|             A Novel|      Stephen King|       Craig Wasson|30 hrs and 40 mins|Unabridged Audiobook|Mystery, Thriller...|   4.6|             59283.0| 52.5|          31.14|1634.8500000000001|\n",
            "|2021-05-01 00:01:02|4c9c8d9b|     221|         Netherlands|     221|Where the Crawdad...|                null|       Delia Owens| Cassandra Campbell|12 hrs and 12 mins|Unabridged Audiobook|Literature & Fiction|   4.8|            191898.0| 31.5|          31.14|            980.91|\n",
            "|2021-05-01 00:01:03|72a6267e|      70|          Montenegro|      70|The Midnight Library|             A Novel|         Matt Haig|     Carey Mulligan| 8 hrs and 50 mins|Unabridged Audiobook|Science Fiction &...|   4.6|             21253.0| 28.0|          31.14| 871.9200000000001|\n",
            "+-------------------+--------+--------+--------------------+--------+--------------------+--------------------+------------------+-------------------+------------------+--------------------+--------------------+------+--------------------+-----+---------------+------------------+\n",
            "only showing top 20 rows\n",
            "\n"
          ]
        }
      ],
      "source": [
        "df.show()"
      ]
    },
    {
      "cell_type": "code",
      "execution_count": 11,
      "metadata": {
        "colab": {
          "base_uri": "https://localhost:8080/"
        },
        "id": "84Q2Q1y3BRyC",
        "outputId": "3fc193b4-d529-477e-bae7-0b8f03f4a59b"
      },
      "outputs": [
        {
          "output_type": "execute_result",
          "data": {
            "text/plain": [
              "[('timestamp', 'string'),\n",
              " ('user_id', 'string'),\n",
              " ('book_id2', 'int'),\n",
              " ('country', 'string'),\n",
              " ('Book_ID4', 'int'),\n",
              " ('Book Title', 'string'),\n",
              " ('Book Subtitle', 'string'),\n",
              " ('Book Author', 'string'),\n",
              " ('Book Narrator', 'string'),\n",
              " ('Audio Runtime', 'string'),\n",
              " ('Audiobook_Type', 'string'),\n",
              " ('Categories', 'string'),\n",
              " ('Rating', 'string'),\n",
              " ('Total No. of Ratings', 'double'),\n",
              " ('Price', 'double'),\n",
              " ('conversion_rate', 'double'),\n",
              " ('THB_Price', 'double')]"
            ]
          },
          "metadata": {},
          "execution_count": 11
        }
      ],
      "source": [
        "df.dtypes"
      ]
    },
    {
      "cell_type": "code",
      "execution_count": 12,
      "metadata": {
        "colab": {
          "base_uri": "https://localhost:8080/"
        },
        "id": "0si_aIoHG4I8",
        "outputId": "bebbe8a2-3431-4ec7-f8a9-b3db4724f246"
      },
      "outputs": [
        {
          "output_type": "stream",
          "name": "stdout",
          "text": [
            "root\n",
            " |-- timestamp: string (nullable = true)\n",
            " |-- user_id: string (nullable = true)\n",
            " |-- book_id2: integer (nullable = true)\n",
            " |-- country: string (nullable = true)\n",
            " |-- Book_ID4: integer (nullable = true)\n",
            " |-- Book Title: string (nullable = true)\n",
            " |-- Book Subtitle: string (nullable = true)\n",
            " |-- Book Author: string (nullable = true)\n",
            " |-- Book Narrator: string (nullable = true)\n",
            " |-- Audio Runtime: string (nullable = true)\n",
            " |-- Audiobook_Type: string (nullable = true)\n",
            " |-- Categories: string (nullable = true)\n",
            " |-- Rating: string (nullable = true)\n",
            " |-- Total No. of Ratings: double (nullable = true)\n",
            " |-- Price: double (nullable = true)\n",
            " |-- conversion_rate: double (nullable = true)\n",
            " |-- THB_Price: double (nullable = true)\n",
            "\n"
          ]
        }
      ],
      "source": [
        "df.printSchema()"
      ]
    },
    {
      "cell_type": "code",
      "execution_count": 13,
      "metadata": {
        "colab": {
          "base_uri": "https://localhost:8080/"
        },
        "id": "tfG-ZNsVHoBd",
        "outputId": "bafdf0d2-c617-4c5b-f093-3d2482f0b767"
      },
      "outputs": [
        {
          "output_type": "stream",
          "name": "stdout",
          "text": [
            "(1998821, 17)\n"
          ]
        }
      ],
      "source": [
        "# Count Row & column\n",
        "print( (df.count(), len(df.columns)) )"
      ]
    },
    {
      "cell_type": "code",
      "execution_count": 14,
      "metadata": {
        "colab": {
          "base_uri": "https://localhost:8080/"
        },
        "id": "W5HwCrg7H7BO",
        "outputId": "c6ada2a9-d266-4dc2-8ad5-8ef9350a83f4"
      },
      "outputs": [
        {
          "output_type": "stream",
          "name": "stdout",
          "text": [
            "+-------+-------------------+--------+-----------------+-------+-----------------+-------------------------------------+--------------------+-------------+--------------------+--------------+--------------------+--------------------+-------------------+--------------------+------------------+------------------+------------------+\n",
            "|summary|          timestamp| user_id|         book_id2|country|         Book_ID4|                           Book Title|       Book Subtitle|  Book Author|       Book Narrator| Audio Runtime|      Audiobook_Type|          Categories|             Rating|Total No. of Ratings|             Price|   conversion_rate|         THB_Price|\n",
            "+-------+-------------------+--------+-----------------+-------+-----------------+-------------------------------------+--------------------+-------------+--------------------+--------------+--------------------+--------------------+-------------------+--------------------+------------------+------------------+------------------+\n",
            "|  count|            1998821| 1998821|          1998821|1998821|          1998821|                              1998821|             1224064|      1998821|             1995200|       1998821|             1994778|             1976542|            1984298|             1980677|           1998821|           1998821|           1998821|\n",
            "|   mean|               null|Infinity|738.7111852437012|   null|738.7111852437012|                   1652.8754716981132|                null|         null|                null|          null|                null|                null|  4.656585793241527|   44748.67961358667| 31.42130384352477|31.775704773912793| 998.4386876410352|\n",
            "| stddev|               null|     NaN| 559.334180010858|   null| 559.334180010858|                   248.61886083029202|                null|         null|                null|          null|                null|                null|0.20248972291890885|   48952.68783576997|10.923951429972703|0.6718524683306842| 347.8429598981791|\n",
            "|    min|2021-05-01 00:00:01|0000019b|                1|Algeria|                1|                 \"Are There Really...|\"\"\"The Power of\"\"...|A. Biographer|\"Curtis \"\"50 Cent...|1 hr and 1 min|  Abridged Audiobook|Arts & Entertainment|                  1|                 1.0|               0.0|            31.033|               0.0|\n",
            "|    max|2021-07-31 23:59:59|fffff538|             2269|  Yemen|             2269|ビジネスと人生の「見え方」が一変す...|Дамир Халилов. Кл...|    高橋 祥子|         相田 さやか| Not Yet Known|Unabridged Audiobook|    Travel & Tourism|      Not rated yet|            242323.0|              84.0|            32.963|2768.8920000000003|\n",
            "+-------+-------------------+--------+-----------------+-------+-----------------+-------------------------------------+--------------------+-------------+--------------------+--------------+--------------------+--------------------+-------------------+--------------------+------------------+------------------+------------------+\n",
            "\n"
          ]
        }
      ],
      "source": [
        "df.describe().show()"
      ]
    },
    {
      "cell_type": "markdown",
      "metadata": {
        "id": "QzFOoQeUr1uB"
      },
      "source": [
        "## Select columns"
      ]
    },
    {
      "cell_type": "code",
      "execution_count": 4,
      "metadata": {
        "colab": {
          "base_uri": "https://localhost:8080/"
        },
        "id": "epI81TSQq-7k",
        "outputId": "af6c97a2-b312-455b-a046-4ad0aa287582"
      },
      "outputs": [
        {
          "output_type": "stream",
          "name": "stdout",
          "text": [
            "+-------------------+--------+-------+------+-------------+--------------------+------------------+--------------------+--------------------+-----+------------------+\n",
            "|          timestamp| user_id|book_id|rating|rating_counts|          categories|     audio_runtime|      audiobook_type|             country|Price|         THB_Price|\n",
            "+-------------------+--------+-------+------+-------------+--------------------+------------------+--------------------+--------------------+-----+------------------+\n",
            "|2021-05-01 00:00:01|ad8eca41|   1584|   4.6|      25863.0|Mystery, Thriller...|20 hrs and 46 mins|Unabridged Audiobook|            Portugal| 35.0|            1089.9|\n",
            "|2021-05-01 00:00:03|561b26c1|    829|   4.8|       2441.0|Relationships, Pa...| 5 hrs and 48 mins|Unabridged Audiobook|United States of ...|19.59|          610.0326|\n",
            "|2021-05-01 00:00:04|81f149e5|   1391|   4.6|      26781.0|Mystery, Thriller...|11 hrs and 50 mins|Unabridged Audiobook|               Japan| 31.5|            980.91|\n",
            "|2021-05-01 00:00:07|4f218413|   1586|   4.8|      11459.0|Relationships, Pa...| 7 hrs and 33 mins|Unabridged Audiobook|              Taiwan|19.95| 621.2429999999999|\n",
            "|2021-05-01 00:00:18|a4066781|    300|   4.8|       9305.0|  Business & Careers| 5 hrs and 51 mins|Unabridged Audiobook|United States of ...|17.49|          544.6386|\n",
            "|2021-05-01 00:00:21|bbbd603a|   1377|   4.6|      35443.0|Literature & Fiction|18 hrs and 59 mins|Unabridged Audiobook|United States of ...|34.99|         1089.5886|\n",
            "|2021-05-01 00:00:22|f636754b|    342|   4.8|      79031.0|Science Fiction &...|37 hrs and 12 mins|Unabridged Audiobook|              Canada| 63.0|           1961.82|\n",
            "|2021-05-01 00:00:26|0eea4bbd|   1600|   4.7|       9241.0|Science Fiction &...|10 hrs and 42 mins|Unabridged Audiobook|United States of ...|24.95|           776.943|\n",
            "|2021-05-01 00:00:26|30b900d5|   1556|   4.8|      14108.0|Literature & Fiction|22 hrs and 31 mins|Unabridged Audiobook|             Algeria|48.99|         1525.5486|\n",
            "|2021-05-01 00:00:28|a208d42a|    790|   4.4|      23618.0|Mystery, Thriller...| 10 hrs and 8 mins|Unabridged Audiobook|United States of ...| 28.0| 871.9200000000001|\n",
            "|2021-05-01 00:00:31|1d4e0721|    630|   4.8|      65789.0|Science Fiction &...|24 hrs and 39 mins|Unabridged Audiobook|              Canada|55.93|         1741.6602|\n",
            "|2021-05-01 00:00:34|9711795f|   1561|   4.8|      36539.0|Science Fiction &...|21 hrs and 50 mins|Unabridged Audiobook|              France|31.49| 980.5985999999999|\n",
            "|2021-05-01 00:00:40|9901d75d|    788|   4.4|      11050.0|     Money & Finance| 7 hrs and 51 mins|Unabridged Audiobook|             Jamaica|27.37| 852.3018000000001|\n",
            "|2021-05-01 00:00:46|790ad1df|    524|   4.6|      16164.0|Literature & Fiction|  12 hrs and 1 min|Unabridged Audiobook|         New Zealand|31.93|          994.3002|\n",
            "|2021-05-01 00:00:47|980adb4b|     74|   4.6|      73222.0|Science Fiction &...| 21 hrs and 2 mins|Unabridged Audiobook|     United Kingdom |47.93|         1492.5402|\n",
            "|2021-05-01 00:00:48|648070f7|    771|   4.6|      10045.0|Literature & Fiction|14 hrs and 16 mins|Unabridged Audiobook|             Austria| 28.5|            887.49|\n",
            "|2021-05-01 00:00:52|69516255|    558|   4.9|      72599.0|Children's Audiob...|18 hrs and 32 mins|Unabridged Audiobook|         South Korea|44.99|1400.9886000000001|\n",
            "|2021-05-01 00:01:00|baf598c3|   1429|   4.6|      59283.0|Mystery, Thriller...|30 hrs and 40 mins|Unabridged Audiobook|         Philippines| 52.5|1634.8500000000001|\n",
            "|2021-05-01 00:01:02|4c9c8d9b|    221|   4.8|     191898.0|Literature & Fiction|12 hrs and 12 mins|Unabridged Audiobook|         Netherlands| 31.5|            980.91|\n",
            "|2021-05-01 00:01:03|72a6267e|     70|   4.6|      21253.0|Science Fiction &...| 8 hrs and 50 mins|Unabridged Audiobook|          Montenegro| 28.0| 871.9200000000001|\n",
            "+-------------------+--------+-------+------+-------------+--------------------+------------------+--------------------+--------------------+-----+------------------+\n",
            "only showing top 20 rows\n",
            "\n"
          ]
        }
      ],
      "source": [
        "from pyspark.sql import functions as F\n",
        "\n",
        "# F command is funtions in SQL\n",
        "# in SQL : SELECT column_name1 AS new_column_name, column_name2 FROM df\n",
        "\n",
        "df = df.select( F.col(\"timestamp\"), F.col(\"user_id\"),\n",
        "               F.col(\"book_id2\").alias(\"book_id\"),\n",
        "                F.col(\"Rating\").alias(\"rating\"),\n",
        "                F.col('`Total No. of Ratings`').alias(\"rating_counts\"),\n",
        "                F.col(\"Categories\").alias(\"categories\"),\n",
        "                F.col('`Audio Runtime`').alias(\"audio_runtime\"),\n",
        "                F.col('Audiobook_Type').alias(\"audiobook_type\"),\n",
        "                F.col(\"country\"), F.col(\"Price\"), F.col(\"THB_Price\") )\n",
        "df.show()"
      ]
    },
    {
      "cell_type": "code",
      "execution_count": 17,
      "metadata": {
        "colab": {
          "base_uri": "https://localhost:8080/"
        },
        "id": "8HxmXrN9U0B-",
        "outputId": "ccbdd0e5-881f-4e1c-c553-d77ec5f4bdc8"
      },
      "outputs": [
        {
          "output_type": "stream",
          "name": "stdout",
          "text": [
            "+-------+---------+-------+-------+-------+-------------+----------+-------------+--------------+-------+-------+---------+\n",
            "|summary|timestamp|user_id|book_id| rating|rating_counts|categories|audio_runtime|audiobook_type|country|  Price|THB_Price|\n",
            "+-------+---------+-------+-------+-------+-------------+----------+-------------+--------------+-------+-------+---------+\n",
            "|  count|  1998821|1998821|1998821|1984298|      1980677|   1976542|      1998821|       1994778|1998821|1998821|  1998821|\n",
            "+-------+---------+-------+-------+-------+-------------+----------+-------------+--------------+-------+-------+---------+\n",
            "\n"
          ]
        }
      ],
      "source": [
        "df.summary(\"count\").show()"
      ]
    },
    {
      "cell_type": "code",
      "execution_count": 18,
      "metadata": {
        "colab": {
          "base_uri": "https://localhost:8080/"
        },
        "id": "cM1-aXR7t8Pi",
        "outputId": "21b009e3-b1e4-4997-d59b-1cbd0a7e9ca4"
      },
      "outputs": [
        {
          "output_type": "stream",
          "name": "stdout",
          "text": [
            "+------------+\n",
            "|count_userID|\n",
            "+------------+\n",
            "|     1998341|\n",
            "+------------+\n",
            "\n"
          ]
        }
      ],
      "source": [
        "# in SQL : SELECT COUNT(DISTINCT column_name) AS new_column_name FROM df\n",
        "\n",
        "df.select( F.countDistinct(\"user_id\").alias(\"count_userID\") ).show()"
      ]
    },
    {
      "cell_type": "code",
      "source": [
        "# Find missing value\n",
        "\n",
        "df.select([ F.sum(F.col(colname).isNull().cast(\"int\")).alias(colname) for colname in df.columns ]).show()"
      ],
      "metadata": {
        "colab": {
          "base_uri": "https://localhost:8080/"
        },
        "id": "NgQzseWyd72X",
        "outputId": "d3ffd71b-ffb0-454d-b2d5-a080b4282d0d"
      },
      "execution_count": 8,
      "outputs": [
        {
          "output_type": "stream",
          "name": "stdout",
          "text": [
            "+---------+-------+-------+------+-------------+----------+-------------+--------------+-------+-----+---------+\n",
            "|timestamp|user_id|book_id|rating|rating_counts|categories|audio_runtime|audiobook_type|country|Price|THB_Price|\n",
            "+---------+-------+-------+------+-------------+----------+-------------+--------------+-------+-----+---------+\n",
            "|        0|      0|      0| 14523|        18144|     22279|            0|          4043|      0|    0|        0|\n",
            "+---------+-------+-------+------+-------------+----------+-------------+--------------+-------+-----+---------+\n",
            "\n"
          ]
        }
      ]
    },
    {
      "cell_type": "markdown",
      "metadata": {
        "id": "xl-Ke9sHZ12i"
      },
      "source": [
        "# EDA"
      ]
    },
    {
      "cell_type": "code",
      "source": [
        "print('Count Unique : ',df.select('rating').distinct().count(),'\\n')\n",
        "df.select('rating').distinct().show(n=100, truncate=False, vertical=False)"
      ],
      "metadata": {
        "colab": {
          "base_uri": "https://localhost:8080/"
        },
        "id": "6mxu_sVi_x-X",
        "outputId": "972bfeeb-8068-486c-d902-1df8b9a931c9"
      },
      "execution_count": 9,
      "outputs": [
        {
          "output_type": "stream",
          "name": "stdout",
          "text": [
            "Count Unique :  35 \n",
            "\n",
            "+------------------+\n",
            "|rating            |\n",
            "+------------------+\n",
            "|3.1               |\n",
            "|4.2               |\n",
            "|3                 |\n",
            "|4.4               |\n",
            "|3.8               |\n",
            "|2.7               |\n",
            "|2.9               |\n",
            "|4.5               |\n",
            "|null              |\n",
            "|2.5               |\n",
            "|4.9               |\n",
            "|3.4               |\n",
            "|5                 |\n",
            "|3.3               |\n",
            "|1.8               |\n",
            "|5 out of 5 stars  |\n",
            "|4.3               |\n",
            "|3.5               |\n",
            "|4.8               |\n",
            "|4.1               |\n",
            "|4.6               |\n",
            "|3.6               |\n",
            "|4 out of 5 stars  |\n",
            "|1.5               |\n",
            "|2.8               |\n",
            "|3.2               |\n",
            "|4.5 out of 5 stars|\n",
            "|2.2               |\n",
            "|1                 |\n",
            "|3.7               |\n",
            "|4.7               |\n",
            "|Not rated yet     |\n",
            "|4                 |\n",
            "|2.3               |\n",
            "|3.9               |\n",
            "+------------------+\n",
            "\n"
          ]
        }
      ]
    },
    {
      "cell_type": "code",
      "source": [
        "print('Count Unique : ',df.select('categories').distinct().count(),'\\n')\n",
        "df.select('categories').distinct().show(n=25, truncate=False, vertical=False)"
      ],
      "metadata": {
        "colab": {
          "base_uri": "https://localhost:8080/"
        },
        "id": "htDh-VG5ACR0",
        "outputId": "e2a36b5d-ec29-4b0c-e5c2-41ee11ca1af2"
      },
      "execution_count": 10,
      "outputs": [
        {
          "output_type": "stream",
          "name": "stdout",
          "text": [
            "Count Unique :  24 \n",
            "\n",
            "+-----------------------------------------------+\n",
            "|categories                                     |\n",
            "+-----------------------------------------------+\n",
            "|Romance                                        |\n",
            "|Mystery, Thriller & Suspense                   |\n",
            "|Teen                                           |\n",
            "|null                                           |\n",
            "|Health & Wellness                              |\n",
            "|Literature & Fiction                           |\n",
            "|Education & Learning                           |\n",
            "|Sports & Outdoors                              |\n",
            "|Erotica                                        |\n",
            "|Business & Careers                             |\n",
            "|Arts & Entertainment                           |\n",
            "|Home & Garden                                  |\n",
            "|Relationships, Parenting & Personal Development|\n",
            "|Money & Finance                                |\n",
            "|Science Fiction & Fantasy                      |\n",
            "|History                                        |\n",
            "|Religion & Spirituality                        |\n",
            "|Computers & Technology                         |\n",
            "|Politics & Social Sciences                     |\n",
            "|Travel & Tourism                               |\n",
            "|Science & Engineering                          |\n",
            "|Biographies & Memoirs                          |\n",
            "|LGBTQ+                                         |\n",
            "|Children's Audiobooks                          |\n",
            "+-----------------------------------------------+\n",
            "\n"
          ]
        }
      ]
    },
    {
      "cell_type": "code",
      "source": [
        "print('Count Unique : ',df.select('audiobook_type').distinct().count(),'\\n')\n",
        "df.select('audiobook_type').distinct().show( truncate=True, vertical=False)"
      ],
      "metadata": {
        "colab": {
          "base_uri": "https://localhost:8080/"
        },
        "id": "ErCN15su9gAF",
        "outputId": "9cfaccd2-9110-446f-c446-7dd2c92cacb5"
      },
      "execution_count": 11,
      "outputs": [
        {
          "output_type": "stream",
          "name": "stdout",
          "text": [
            "Count Unique :  6 \n",
            "\n",
            "+--------------------+\n",
            "|      audiobook_type|\n",
            "+--------------------+\n",
            "|Original Recordin...|\n",
            "|              Speech|\n",
            "|  Abridged Audiobook|\n",
            "|                null|\n",
            "|Unabridged Audiobook|\n",
            "|         Performance|\n",
            "+--------------------+\n",
            "\n"
          ]
        }
      ]
    },
    {
      "cell_type": "code",
      "source": [
        "print('Count Unique : ',df.select('country').distinct().count(),'\\n')\n",
        "df.select('country').distinct().sort('country').show(n=100, truncate=False, vertical=False)"
      ],
      "metadata": {
        "colab": {
          "base_uri": "https://localhost:8080/"
        },
        "id": "IHNrRjTHAIS1",
        "outputId": "4db4bea8-f9d9-4e20-c859-291f7ff12f73"
      },
      "execution_count": 12,
      "outputs": [
        {
          "output_type": "stream",
          "name": "stdout",
          "text": [
            "Count Unique :  57 \n",
            "\n",
            "+------------------------+\n",
            "|country                 |\n",
            "+------------------------+\n",
            "|Algeria                 |\n",
            "|Argentina               |\n",
            "|Australia               |\n",
            "|Austria                 |\n",
            "|Bahamas                 |\n",
            "|Belgium                 |\n",
            "|Brazil                  |\n",
            "|Canada                  |\n",
            "|China                   |\n",
            "|Colombia                |\n",
            "|Croatia                 |\n",
            "|Denmark                 |\n",
            "|Dubai                   |\n",
            "|Egypt                   |\n",
            "|Estonia                 |\n",
            "|Finland                 |\n",
            "|France                  |\n",
            "|Germany                 |\n",
            "|Greece                  |\n",
            "|Hungary                 |\n",
            "|India                   |\n",
            "|Indonesia               |\n",
            "|Ireland                 |\n",
            "|Israel                  |\n",
            "|Italy                   |\n",
            "|Jamaica                 |\n",
            "|Japan                   |\n",
            "|Kenya                   |\n",
            "|Kuwait                  |\n",
            "|Malaysia                |\n",
            "|Maldives                |\n",
            "|Mexico                  |\n",
            "|Montenegro              |\n",
            "|Netherlands             |\n",
            "|New Zealand             |\n",
            "|Nigeria                 |\n",
            "|Norway                  |\n",
            "|Pakistan                |\n",
            "|Peru                    |\n",
            "|Philippines             |\n",
            "|Poland                  |\n",
            "|Portugal                |\n",
            "|Serbia                  |\n",
            "|Singapore               |\n",
            "|Slovakia                |\n",
            "|South Africa            |\n",
            "|South Korea             |\n",
            "|Spain                   |\n",
            "|Sweden                  |\n",
            "|Switzerland             |\n",
            "|Taiwan                  |\n",
            "|Thailand                |\n",
            "|Turkey                  |\n",
            "|United Kingdom          |\n",
            "|United States of America|\n",
            "|Vietnam                 |\n",
            "|Yemen                   |\n",
            "+------------------------+\n",
            "\n"
          ]
        }
      ]
    },
    {
      "cell_type": "code",
      "execution_count": 24,
      "metadata": {
        "colab": {
          "base_uri": "https://localhost:8080/"
        },
        "id": "jSca88OjZ3Fw",
        "outputId": "5361a1b3-ba6e-433b-9f07-508901020ba2"
      },
      "outputs": [
        {
          "output_type": "stream",
          "name": "stdout",
          "text": [
            "+-------------------+--------+-------+------+-------------+--------------------+------------------+--------------------+--------------------+-----+------------------+\n",
            "|          timestamp| user_id|book_id|rating|rating_counts|          categories|     audio_runtime|      audiobook_type|             country|Price|         THB_Price|\n",
            "+-------------------+--------+-------+------+-------------+--------------------+------------------+--------------------+--------------------+-----+------------------+\n",
            "|2021-07-01 00:00:01|3a5d82d7|   1378|   4.7|      20475.0|Science Fiction &...|36 hrs and 27 mins|Unabridged Audiobook|              Canada|59.93|        1922.13489|\n",
            "|2021-07-01 00:00:02|d520fe3f|    876|   4.8|      34732.0|  Business & Careers|11 hrs and 37 mins|Unabridged Audiobook|             Ireland| 31.5|         1010.2995|\n",
            "|2021-07-01 00:00:05|5ba5bf33|     46|   4.7|      82649.0|Relationships, Pa...| 7 hrs and 15 mins|Unabridged Audiobook|              Canada|31.93|        1024.09089|\n",
            "|2021-07-01 00:00:06|e07625be|    982|   4.6|      30636.0|Literature & Fiction|40 hrs and 56 mins|Unabridged Audiobook|        South Africa| 56.0|          1796.088|\n",
            "|2021-07-01 00:00:06|4d9492d1|    282|   4.9|      37980.0|Literature & Fiction|16 hrs and 40 mins|Unabridged Audiobook|            Malaysia|34.99|1122.2342700000002|\n",
            "|2021-07-01 00:00:09|7549e4ef|     56|   4.9|     182445.0|Arts & Entertainment| 8 hrs and 44 mins|Unabridged Audiobook|             Jamaica|24.95|         800.22135|\n",
            "|2021-07-01 00:00:18|5e790969|    327|   4.3|      14906.0|                null| 5 hrs and 13 mins|Unabridged Audiobook|             Finland|19.95|         639.85635|\n",
            "|2021-07-01 00:00:22|8df998ae|    221|   4.8|     191898.0|Literature & Fiction|12 hrs and 12 mins|Unabridged Audiobook|United States of ...| 31.5|         1010.2995|\n",
            "|2021-07-01 00:00:22|3950f428|    492|   4.8|      11410.0|Politics & Social...|10 hrs and 43 mins|Unabridged Audiobook|              Canada| 28.0|           898.044|\n",
            "|2021-07-01 00:00:26|e2c447c3|   1438|   4.7|       8397.0|Science Fiction &...|20 hrs and 18 mins|Unabridged Audiobook|United States of ...|25.08| 804.3908399999999|\n",
            "|2021-07-01 00:00:28|281f845f|    154|   4.6|      69330.0|   Health & Wellness|15 hrs and 40 mins|Unabridged Audiobook|             Ireland|36.33|        1165.21209|\n",
            "|2021-07-01 00:00:43|4249263f|    738|   4.8|      13998.0|Science Fiction &...|20 hrs and 34 mins|Unabridged Audiobook|           Indonesia|38.49|1234.4897700000001|\n",
            "|2021-07-01 00:00:43|6e9d7c73|    805|   4.9|     137873.0|Children's Audiob...| 8 hrs and 18 mins|Unabridged Audiobook|United States of ...|29.99| 961.8692699999999|\n",
            "|2021-07-01 00:00:51|8e0aaa14|   1445|   4.4|      37311.0|Literature & Fiction| 9 hrs and 34 mins|Unabridged Audiobook|United States of ...|27.93|         895.79889|\n",
            "|2021-07-01 00:00:55|d745d594|    254|   4.3|       2474.0|Literature & Fiction|10 hrs and 16 mins|Unabridged Audiobook|             Greece | 28.0|           898.044|\n",
            "|2021-07-01 00:00:59|0ccd21c9|   1473|   4.4|      13591.0|Mystery, Thriller...|15 hrs and 24 mins|Unabridged Audiobook|United States of ...|27.27|         874.63071|\n",
            "|2021-07-01 00:01:06|5a80eacd|    959|     5|         31.0|Biographies & Mem...| 5 hrs and 20 mins|Unabridged Audiobook|        South Africa|23.95| 768.1483499999999|\n",
            "|2021-07-01 00:01:06|97a6b9ff|    106|   4.9|     136442.0|Relationships, Pa...|13 hrs and 37 mins|Unabridged Audiobook|             Austria|24.95|         800.22135|\n",
            "|2021-07-01 00:01:09|e4fe64ec|    288|   4.9|      65497.0|Science Fiction &...|48 hrs and 13 mins|Unabridged Audiobook|              Canada|55.99|        1795.76727|\n",
            "|2021-07-01 00:01:27|9d85fdd8|   1015|   4.5|      14060.0|Literature & Fiction|14 hrs and 38 mins|Unabridged Audiobook|United States of ...|29.99| 961.8692699999999|\n",
            "+-------------------+--------+-------+------+-------------+--------------------+------------------+--------------------+--------------------+-----+------------------+\n",
            "only showing top 20 rows\n",
            "\n"
          ]
        }
      ],
      "source": [
        "df.where( df.timestamp.startswith(\"2021-07\") ).show()"
      ]
    },
    {
      "cell_type": "code",
      "execution_count": 26,
      "metadata": {
        "colab": {
          "base_uri": "https://localhost:8080/"
        },
        "id": "_T2Q5NQthC7j",
        "outputId": "09257361-9732-4851-e2d0-12e7bca39c49"
      },
      "outputs": [
        {
          "output_type": "stream",
          "name": "stdout",
          "text": [
            "+-------------------+--------+-------+------+-------------+--------------------+------------------+--------------------+--------+-----+------------------+\n",
            "|          timestamp| user_id|book_id|rating|rating_counts|          categories|     audio_runtime|      audiobook_type| country|Price|         THB_Price|\n",
            "+-------------------+--------+-------+------+-------------+--------------------+------------------+--------------------+--------+-----+------------------+\n",
            "|2021-05-01 00:07:00|0d9081ce|   1413|   4.7|      40357.0|             Romance|38 hrs and 54 mins|Unabridged Audiobook|Thailand|41.99|         1307.5686|\n",
            "|2021-05-01 00:16:15|242b77da|   1087|   4.7|       3583.0|   Health & Wellness|22 hrs and 18 mins|Unabridged Audiobook|Thailand|28.34|          882.5076|\n",
            "|2021-05-01 00:26:44|5041dad9|    993|   4.4|     137770.0|Literature & Fiction|10 hrs and 58 mins|Unabridged Audiobook|Thailand| 28.0| 871.9200000000001|\n",
            "|2021-05-01 00:27:10|63655834|    560|   4.7|       1902.0|             Romance| 8 hrs and 21 mins|Unabridged Audiobook|Thailand|25.19|          784.4166|\n",
            "|2021-05-01 00:27:33|15ca2f65|    627|   4.3|      55388.0|Mystery, Thriller...|19 hrs and 11 mins|Unabridged Audiobook|Thailand| 33.6|          1046.304|\n",
            "|2021-05-01 00:47:06|6dc96937|   1556|   4.8|      14108.0|Literature & Fiction|22 hrs and 31 mins|Unabridged Audiobook|Thailand|48.99|         1525.5486|\n",
            "|2021-05-01 00:53:30|f2334615|    201|   4.6|      18691.0|Literature & Fiction| 12 hrs and 9 mins|  Abridged Audiobook|Thailand| 28.0| 871.9200000000001|\n",
            "|2021-05-01 00:55:25|34736e69|    526|   4.7|       3550.0|  Business & Careers| 6 hrs and 24 mins|Unabridged Audiobook|Thailand|20.99|          653.6286|\n",
            "|2021-05-01 00:56:39|ba3b906e|     36|   4.5|     143539.0|Relationships, Pa...| 5 hrs and 17 mins|Unabridged Audiobook|Thailand|23.95|           745.803|\n",
            "|2021-05-01 00:59:48|e143590c|   1612|   4.8|      15216.0|Science Fiction &...|14 hrs and 30 mins|Unabridged Audiobook|Thailand|34.95|          1088.343|\n",
            "|2021-05-01 01:06:06|0014eef7|    769|   4.7|      60069.0|Literature & Fiction| 6 hrs and 29 mins|Unabridged Audiobook|Thailand|23.95|           745.803|\n",
            "|2021-05-01 01:07:07|77da1817|    792|   4.8|       3817.0|  Business & Careers| 2 hrs and 33 mins|Unabridged Audiobook|Thailand|10.49|326.65860000000004|\n",
            "|2021-05-01 01:07:16|3191360d|    293|   4.8|        348.0|Relationships, Pa...| 5 hrs and 44 mins|Unabridged Audiobook|Thailand| 17.0|            529.38|\n",
            "|2021-05-01 01:28:12|70fd4bda|    309|   4.8|      10545.0|Relationships, Pa...|10 hrs and 12 mins|Unabridged Audiobook|Thailand| 28.0| 871.9200000000001|\n",
            "|2021-05-01 01:35:46|279918da|    701|   4.8|      80264.0|Science Fiction &...|45 hrs and 30 mins|Unabridged Audiobook|Thailand|63.93|         1990.7802|\n",
            "|2021-05-01 01:37:40|4f718829|   1084|   4.7|       6539.0|Literature & Fiction|10 hrs and 32 mins|Unabridged Audiobook|Thailand| 24.5| 762.9300000000001|\n",
            "|2021-05-01 01:44:09|78afd6fd|    381|   4.6|       6669.0|              LGBTQ+|12 hrs and 15 mins|Unabridged Audiobook|Thailand|25.51| 794.3814000000001|\n",
            "|2021-05-01 01:51:15|5f355595|   1475|   4.7|      21329.0|Science Fiction &...|14 hrs and 45 mins|Unabridged Audiobook|Thailand| 31.5|            980.91|\n",
            "|2021-05-01 02:16:20|c1bc9efa|    427|   4.7|       8945.0|   Health & Wellness| 11 hrs and 5 mins|Unabridged Audiobook|Thailand|30.79|          958.8006|\n",
            "|2021-05-01 02:33:52|9f33c1cd|    203|   4.8|     242323.0|Science Fiction &...|15 hrs and 40 mins|Unabridged Audiobook|Thailand| 31.5|            980.91|\n",
            "+-------------------+--------+-------+------+-------------+--------------------+------------------+--------------------+--------+-----+------------------+\n",
            "only showing top 20 rows\n",
            "\n"
          ]
        }
      ],
      "source": [
        "df.where(df.country == 'Thailand').show()"
      ]
    },
    {
      "cell_type": "markdown",
      "metadata": {
        "id": "Z9MiSLP8tVcl"
      },
      "source": [
        "## Graphical EDA"
      ]
    },
    {
      "cell_type": "code",
      "execution_count": 17,
      "metadata": {
        "id": "5QER3Opzs5Es"
      },
      "outputs": [],
      "source": [
        "import seaborn as sns\n",
        "import matplotlib.pyplot as plt\n",
        "import pandas as pd"
      ]
    },
    {
      "cell_type": "code",
      "execution_count": 20,
      "metadata": {
        "colab": {
          "base_uri": "https://localhost:8080/",
          "height": 458
        },
        "id": "rWl9lEvuvojE",
        "outputId": "17cfcf3d-eb5f-46c6-fe22-08ee3d4d7987"
      },
      "outputs": [
        {
          "output_type": "stream",
          "name": "stderr",
          "text": [
            "/usr/local/lib/python3.10/dist-packages/pyspark/sql/pandas/conversion.py:178: FutureWarning: Passing unit-less datetime64 dtype to .astype is deprecated and will raise in a future version. Pass 'datetime64[ns]' instead\n",
            "  series = series.astype(t, copy=False)\n"
          ]
        },
        {
          "output_type": "execute_result",
          "data": {
            "text/plain": [
              "                  timestamp   user_id  book_id       audio_runtime  \\\n",
              "0       2021-05-01 00:00:01  ad8eca41     1584  20 hrs and 46 mins   \n",
              "1       2021-05-01 00:00:03  561b26c1      829   5 hrs and 48 mins   \n",
              "2       2021-05-01 00:00:04  81f149e5     1391  11 hrs and 50 mins   \n",
              "3       2021-05-01 00:00:07  4f218413     1586   7 hrs and 33 mins   \n",
              "4       2021-05-01 00:00:18  a4066781      300   5 hrs and 51 mins   \n",
              "...                     ...       ...      ...                 ...   \n",
              "1998816 2021-07-31 23:59:47  72da1411      600  11 hrs and 55 mins   \n",
              "1998817 2021-07-31 23:59:48  620c27c8      462  10 hrs and 20 mins   \n",
              "1998818 2021-07-31 23:59:55  84fe88ab     1656  13 hrs and 20 mins   \n",
              "1998819 2021-07-31 23:59:57  fd6cc4fc      522  17 hrs and 30 mins   \n",
              "1998820 2021-07-31 23:59:59  9f4d5e3b      110   3 hrs and 24 mins   \n",
              "\n",
              "                          country  Price   THB_Price  rating  rating_counts  \\\n",
              "0                        Portugal  35.00  1089.90000     4.6              4   \n",
              "1        United States of America  19.59   610.03260     4.8              4   \n",
              "2                           Japan  31.50   980.91000     4.6              4   \n",
              "3                          Taiwan  19.95   621.24300     4.8              4   \n",
              "4        United States of America  17.49   544.63860     4.8              4   \n",
              "...                           ...    ...         ...     ...            ...   \n",
              "1998816                  Portugal  25.08   824.80596     4.7              4   \n",
              "1998817                Montenegro  24.95   820.53065     4.7              4   \n",
              "1998818  United States of America  31.95  1050.73965     4.8              4   \n",
              "1998819  United States of America  31.50  1035.94050     4.7              4   \n",
              "1998820  United States of America  20.52   674.84124     4.6              4   \n",
              "\n",
              "                                              categories        audiobook_type  \n",
              "0                           Mystery, Thriller & Suspense  Unabridged Audiobook  \n",
              "1        Relationships, Parenting & Personal Development  Unabridged Audiobook  \n",
              "2                           Mystery, Thriller & Suspense  Unabridged Audiobook  \n",
              "3        Relationships, Parenting & Personal Development  Unabridged Audiobook  \n",
              "4                                     Business & Careers  Unabridged Audiobook  \n",
              "...                                                  ...                   ...  \n",
              "1998816                        Science Fiction & Fantasy  Unabridged Audiobook  \n",
              "1998817                                          History  Unabridged Audiobook  \n",
              "1998818                            Biographies & Memoirs  Unabridged Audiobook  \n",
              "1998819                             Literature & Fiction  Unabridged Audiobook  \n",
              "1998820  Relationships, Parenting & Personal Development  Unabridged Audiobook  \n",
              "\n",
              "[1998821 rows x 11 columns]"
            ],
            "text/html": [
              "\n",
              "\n",
              "  <div id=\"df-efa3471e-cef6-4e3d-9d09-c4bd115a41bc\">\n",
              "    <div class=\"colab-df-container\">\n",
              "      <div>\n",
              "<style scoped>\n",
              "    .dataframe tbody tr th:only-of-type {\n",
              "        vertical-align: middle;\n",
              "    }\n",
              "\n",
              "    .dataframe tbody tr th {\n",
              "        vertical-align: top;\n",
              "    }\n",
              "\n",
              "    .dataframe thead th {\n",
              "        text-align: right;\n",
              "    }\n",
              "</style>\n",
              "<table border=\"1\" class=\"dataframe\">\n",
              "  <thead>\n",
              "    <tr style=\"text-align: right;\">\n",
              "      <th></th>\n",
              "      <th>timestamp</th>\n",
              "      <th>user_id</th>\n",
              "      <th>book_id</th>\n",
              "      <th>audio_runtime</th>\n",
              "      <th>country</th>\n",
              "      <th>Price</th>\n",
              "      <th>THB_Price</th>\n",
              "      <th>rating</th>\n",
              "      <th>rating_counts</th>\n",
              "      <th>categories</th>\n",
              "      <th>audiobook_type</th>\n",
              "    </tr>\n",
              "  </thead>\n",
              "  <tbody>\n",
              "    <tr>\n",
              "      <th>0</th>\n",
              "      <td>2021-05-01 00:00:01</td>\n",
              "      <td>ad8eca41</td>\n",
              "      <td>1584</td>\n",
              "      <td>20 hrs and 46 mins</td>\n",
              "      <td>Portugal</td>\n",
              "      <td>35.00</td>\n",
              "      <td>1089.90000</td>\n",
              "      <td>4.6</td>\n",
              "      <td>4</td>\n",
              "      <td>Mystery, Thriller &amp; Suspense</td>\n",
              "      <td>Unabridged Audiobook</td>\n",
              "    </tr>\n",
              "    <tr>\n",
              "      <th>1</th>\n",
              "      <td>2021-05-01 00:00:03</td>\n",
              "      <td>561b26c1</td>\n",
              "      <td>829</td>\n",
              "      <td>5 hrs and 48 mins</td>\n",
              "      <td>United States of America</td>\n",
              "      <td>19.59</td>\n",
              "      <td>610.03260</td>\n",
              "      <td>4.8</td>\n",
              "      <td>4</td>\n",
              "      <td>Relationships, Parenting &amp; Personal Development</td>\n",
              "      <td>Unabridged Audiobook</td>\n",
              "    </tr>\n",
              "    <tr>\n",
              "      <th>2</th>\n",
              "      <td>2021-05-01 00:00:04</td>\n",
              "      <td>81f149e5</td>\n",
              "      <td>1391</td>\n",
              "      <td>11 hrs and 50 mins</td>\n",
              "      <td>Japan</td>\n",
              "      <td>31.50</td>\n",
              "      <td>980.91000</td>\n",
              "      <td>4.6</td>\n",
              "      <td>4</td>\n",
              "      <td>Mystery, Thriller &amp; Suspense</td>\n",
              "      <td>Unabridged Audiobook</td>\n",
              "    </tr>\n",
              "    <tr>\n",
              "      <th>3</th>\n",
              "      <td>2021-05-01 00:00:07</td>\n",
              "      <td>4f218413</td>\n",
              "      <td>1586</td>\n",
              "      <td>7 hrs and 33 mins</td>\n",
              "      <td>Taiwan</td>\n",
              "      <td>19.95</td>\n",
              "      <td>621.24300</td>\n",
              "      <td>4.8</td>\n",
              "      <td>4</td>\n",
              "      <td>Relationships, Parenting &amp; Personal Development</td>\n",
              "      <td>Unabridged Audiobook</td>\n",
              "    </tr>\n",
              "    <tr>\n",
              "      <th>4</th>\n",
              "      <td>2021-05-01 00:00:18</td>\n",
              "      <td>a4066781</td>\n",
              "      <td>300</td>\n",
              "      <td>5 hrs and 51 mins</td>\n",
              "      <td>United States of America</td>\n",
              "      <td>17.49</td>\n",
              "      <td>544.63860</td>\n",
              "      <td>4.8</td>\n",
              "      <td>4</td>\n",
              "      <td>Business &amp; Careers</td>\n",
              "      <td>Unabridged Audiobook</td>\n",
              "    </tr>\n",
              "    <tr>\n",
              "      <th>...</th>\n",
              "      <td>...</td>\n",
              "      <td>...</td>\n",
              "      <td>...</td>\n",
              "      <td>...</td>\n",
              "      <td>...</td>\n",
              "      <td>...</td>\n",
              "      <td>...</td>\n",
              "      <td>...</td>\n",
              "      <td>...</td>\n",
              "      <td>...</td>\n",
              "      <td>...</td>\n",
              "    </tr>\n",
              "    <tr>\n",
              "      <th>1998816</th>\n",
              "      <td>2021-07-31 23:59:47</td>\n",
              "      <td>72da1411</td>\n",
              "      <td>600</td>\n",
              "      <td>11 hrs and 55 mins</td>\n",
              "      <td>Portugal</td>\n",
              "      <td>25.08</td>\n",
              "      <td>824.80596</td>\n",
              "      <td>4.7</td>\n",
              "      <td>4</td>\n",
              "      <td>Science Fiction &amp; Fantasy</td>\n",
              "      <td>Unabridged Audiobook</td>\n",
              "    </tr>\n",
              "    <tr>\n",
              "      <th>1998817</th>\n",
              "      <td>2021-07-31 23:59:48</td>\n",
              "      <td>620c27c8</td>\n",
              "      <td>462</td>\n",
              "      <td>10 hrs and 20 mins</td>\n",
              "      <td>Montenegro</td>\n",
              "      <td>24.95</td>\n",
              "      <td>820.53065</td>\n",
              "      <td>4.7</td>\n",
              "      <td>4</td>\n",
              "      <td>History</td>\n",
              "      <td>Unabridged Audiobook</td>\n",
              "    </tr>\n",
              "    <tr>\n",
              "      <th>1998818</th>\n",
              "      <td>2021-07-31 23:59:55</td>\n",
              "      <td>84fe88ab</td>\n",
              "      <td>1656</td>\n",
              "      <td>13 hrs and 20 mins</td>\n",
              "      <td>United States of America</td>\n",
              "      <td>31.95</td>\n",
              "      <td>1050.73965</td>\n",
              "      <td>4.8</td>\n",
              "      <td>4</td>\n",
              "      <td>Biographies &amp; Memoirs</td>\n",
              "      <td>Unabridged Audiobook</td>\n",
              "    </tr>\n",
              "    <tr>\n",
              "      <th>1998819</th>\n",
              "      <td>2021-07-31 23:59:57</td>\n",
              "      <td>fd6cc4fc</td>\n",
              "      <td>522</td>\n",
              "      <td>17 hrs and 30 mins</td>\n",
              "      <td>United States of America</td>\n",
              "      <td>31.50</td>\n",
              "      <td>1035.94050</td>\n",
              "      <td>4.7</td>\n",
              "      <td>4</td>\n",
              "      <td>Literature &amp; Fiction</td>\n",
              "      <td>Unabridged Audiobook</td>\n",
              "    </tr>\n",
              "    <tr>\n",
              "      <th>1998820</th>\n",
              "      <td>2021-07-31 23:59:59</td>\n",
              "      <td>9f4d5e3b</td>\n",
              "      <td>110</td>\n",
              "      <td>3 hrs and 24 mins</td>\n",
              "      <td>United States of America</td>\n",
              "      <td>20.52</td>\n",
              "      <td>674.84124</td>\n",
              "      <td>4.6</td>\n",
              "      <td>4</td>\n",
              "      <td>Relationships, Parenting &amp; Personal Development</td>\n",
              "      <td>Unabridged Audiobook</td>\n",
              "    </tr>\n",
              "  </tbody>\n",
              "</table>\n",
              "<p>1998821 rows × 11 columns</p>\n",
              "</div>\n",
              "      <button class=\"colab-df-convert\" onclick=\"convertToInteractive('df-efa3471e-cef6-4e3d-9d09-c4bd115a41bc')\"\n",
              "              title=\"Convert this dataframe to an interactive table.\"\n",
              "              style=\"display:none;\">\n",
              "\n",
              "  <svg xmlns=\"http://www.w3.org/2000/svg\" height=\"24px\"viewBox=\"0 0 24 24\"\n",
              "       width=\"24px\">\n",
              "    <path d=\"M0 0h24v24H0V0z\" fill=\"none\"/>\n",
              "    <path d=\"M18.56 5.44l.94 2.06.94-2.06 2.06-.94-2.06-.94-.94-2.06-.94 2.06-2.06.94zm-11 1L8.5 8.5l.94-2.06 2.06-.94-2.06-.94L8.5 2.5l-.94 2.06-2.06.94zm10 10l.94 2.06.94-2.06 2.06-.94-2.06-.94-.94-2.06-.94 2.06-2.06.94z\"/><path d=\"M17.41 7.96l-1.37-1.37c-.4-.4-.92-.59-1.43-.59-.52 0-1.04.2-1.43.59L10.3 9.45l-7.72 7.72c-.78.78-.78 2.05 0 2.83L4 21.41c.39.39.9.59 1.41.59.51 0 1.02-.2 1.41-.59l7.78-7.78 2.81-2.81c.8-.78.8-2.07 0-2.86zM5.41 20L4 18.59l7.72-7.72 1.47 1.35L5.41 20z\"/>\n",
              "  </svg>\n",
              "      </button>\n",
              "\n",
              "\n",
              "\n",
              "    <div id=\"df-022b6a58-9acf-4820-a69a-9a70eac6fd8a\">\n",
              "      <button class=\"colab-df-quickchart\" onclick=\"quickchart('df-022b6a58-9acf-4820-a69a-9a70eac6fd8a')\"\n",
              "              title=\"Suggest charts.\"\n",
              "              style=\"display:none;\">\n",
              "\n",
              "<svg xmlns=\"http://www.w3.org/2000/svg\" height=\"24px\"viewBox=\"0 0 24 24\"\n",
              "     width=\"24px\">\n",
              "    <g>\n",
              "        <path d=\"M19 3H5c-1.1 0-2 .9-2 2v14c0 1.1.9 2 2 2h14c1.1 0 2-.9 2-2V5c0-1.1-.9-2-2-2zM9 17H7v-7h2v7zm4 0h-2V7h2v10zm4 0h-2v-4h2v4z\"/>\n",
              "    </g>\n",
              "</svg>\n",
              "      </button>\n",
              "    </div>\n",
              "\n",
              "<style>\n",
              "  .colab-df-quickchart {\n",
              "    background-color: #E8F0FE;\n",
              "    border: none;\n",
              "    border-radius: 50%;\n",
              "    cursor: pointer;\n",
              "    display: none;\n",
              "    fill: #1967D2;\n",
              "    height: 32px;\n",
              "    padding: 0 0 0 0;\n",
              "    width: 32px;\n",
              "  }\n",
              "\n",
              "  .colab-df-quickchart:hover {\n",
              "    background-color: #E2EBFA;\n",
              "    box-shadow: 0px 1px 2px rgba(60, 64, 67, 0.3), 0px 1px 3px 1px rgba(60, 64, 67, 0.15);\n",
              "    fill: #174EA6;\n",
              "  }\n",
              "\n",
              "  [theme=dark] .colab-df-quickchart {\n",
              "    background-color: #3B4455;\n",
              "    fill: #D2E3FC;\n",
              "  }\n",
              "\n",
              "  [theme=dark] .colab-df-quickchart:hover {\n",
              "    background-color: #434B5C;\n",
              "    box-shadow: 0px 1px 3px 1px rgba(0, 0, 0, 0.15);\n",
              "    filter: drop-shadow(0px 1px 2px rgba(0, 0, 0, 0.3));\n",
              "    fill: #FFFFFF;\n",
              "  }\n",
              "</style>\n",
              "\n",
              "    <script>\n",
              "      async function quickchart(key) {\n",
              "        const containerElement = document.querySelector('#' + key);\n",
              "        const charts = await google.colab.kernel.invokeFunction(\n",
              "            'suggestCharts', [key], {});\n",
              "      }\n",
              "    </script>\n",
              "\n",
              "      <script>\n",
              "\n",
              "function displayQuickchartButton(domScope) {\n",
              "  let quickchartButtonEl =\n",
              "    domScope.querySelector('#df-022b6a58-9acf-4820-a69a-9a70eac6fd8a button.colab-df-quickchart');\n",
              "  quickchartButtonEl.style.display =\n",
              "    google.colab.kernel.accessAllowed ? 'block' : 'none';\n",
              "}\n",
              "\n",
              "        displayQuickchartButton(document);\n",
              "      </script>\n",
              "      <style>\n",
              "    .colab-df-container {\n",
              "      display:flex;\n",
              "      flex-wrap:wrap;\n",
              "      gap: 12px;\n",
              "    }\n",
              "\n",
              "    .colab-df-convert {\n",
              "      background-color: #E8F0FE;\n",
              "      border: none;\n",
              "      border-radius: 50%;\n",
              "      cursor: pointer;\n",
              "      display: none;\n",
              "      fill: #1967D2;\n",
              "      height: 32px;\n",
              "      padding: 0 0 0 0;\n",
              "      width: 32px;\n",
              "    }\n",
              "\n",
              "    .colab-df-convert:hover {\n",
              "      background-color: #E2EBFA;\n",
              "      box-shadow: 0px 1px 2px rgba(60, 64, 67, 0.3), 0px 1px 3px 1px rgba(60, 64, 67, 0.15);\n",
              "      fill: #174EA6;\n",
              "    }\n",
              "\n",
              "    [theme=dark] .colab-df-convert {\n",
              "      background-color: #3B4455;\n",
              "      fill: #D2E3FC;\n",
              "    }\n",
              "\n",
              "    [theme=dark] .colab-df-convert:hover {\n",
              "      background-color: #434B5C;\n",
              "      box-shadow: 0px 1px 3px 1px rgba(0, 0, 0, 0.15);\n",
              "      filter: drop-shadow(0px 1px 2px rgba(0, 0, 0, 0.3));\n",
              "      fill: #FFFFFF;\n",
              "    }\n",
              "  </style>\n",
              "\n",
              "      <script>\n",
              "        const buttonEl =\n",
              "          document.querySelector('#df-efa3471e-cef6-4e3d-9d09-c4bd115a41bc button.colab-df-convert');\n",
              "        buttonEl.style.display =\n",
              "          google.colab.kernel.accessAllowed ? 'block' : 'none';\n",
              "\n",
              "        async function convertToInteractive(key) {\n",
              "          const element = document.querySelector('#df-efa3471e-cef6-4e3d-9d09-c4bd115a41bc');\n",
              "          const dataTable =\n",
              "            await google.colab.kernel.invokeFunction('convertToInteractive',\n",
              "                                                     [key], {});\n",
              "          if (!dataTable) return;\n",
              "\n",
              "          const docLinkHtml = 'Like what you see? Visit the ' +\n",
              "            '<a target=\"_blank\" href=https://colab.research.google.com/notebooks/data_table.ipynb>data table notebook</a>'\n",
              "            + ' to learn more about interactive tables.';\n",
              "          element.innerHTML = '';\n",
              "          dataTable['output_type'] = 'display_data';\n",
              "          await google.colab.output.renderOutput(dataTable, element);\n",
              "          const docLink = document.createElement('div');\n",
              "          docLink.innerHTML = docLinkHtml;\n",
              "          element.appendChild(docLink);\n",
              "        }\n",
              "      </script>\n",
              "    </div>\n",
              "  </div>\n"
            ]
          },
          "metadata": {},
          "execution_count": 20
        }
      ],
      "source": [
        "# convert to pandas\n",
        "\n",
        "df_pd = df.toPandas()\n",
        "\n",
        "df_pd"
      ]
    },
    {
      "cell_type": "code",
      "execution_count": 31,
      "metadata": {
        "colab": {
          "base_uri": "https://localhost:8080/",
          "height": 467
        },
        "id": "9dtrdmdMwcIl",
        "outputId": "146f463d-8db5-445e-8d15-9c6440e2853c"
      },
      "outputs": [
        {
          "output_type": "execute_result",
          "data": {
            "text/plain": [
              "<Axes: xlabel='THB_Price'>"
            ]
          },
          "metadata": {},
          "execution_count": 31
        },
        {
          "output_type": "display_data",
          "data": {
            "text/plain": [
              "<Figure size 640x480 with 1 Axes>"
            ],
            "image/png": "[encoded data removed]"
          },
          "metadata": {}
        }
      ],
      "source": [
        "sns.boxplot(x = df_pd['THB_Price'])"
      ]
    },
    {
      "cell_type": "code",
      "execution_count": 32,
      "metadata": {
        "colab": {
          "base_uri": "https://localhost:8080/",
          "height": 467
        },
        "id": "0t-SfPT8xWKY",
        "outputId": "d164141f-acc5-4f4c-d063-573e1dbc56fb"
      },
      "outputs": [
        {
          "output_type": "execute_result",
          "data": {
            "text/plain": [
              "<Axes: xlabel='THB_Price', ylabel='Count'>"
            ]
          },
          "metadata": {},
          "execution_count": 32
        },
        {
          "output_type": "display_data",
          "data": {
            "text/plain": [
              "<Figure size 640x480 with 1 Axes>"
            ],
            "image/png": "[encoded data removed]"
          },
          "metadata": {}
        }
      ],
      "source": [
        "# bins : the number of bar that you want to show\n",
        "\n",
        "sns.histplot(df_pd['THB_Price'], bins=20)"
      ]
    },
    {
      "cell_type": "code",
      "execution_count": 33,
      "metadata": {
        "id": "DwNl09R4zJfJ"
      },
      "outputs": [],
      "source": [
        "# Plotly - interactive chart ( Not recommend if your data is BIG )\n",
        "\n",
        "# import plotly.express as px\n",
        "\n",
        "# fig = px.scatter(df_pd, 'book_id', 'THB_Price')\n",
        "# fig.show()"
      ]
    },
    {
      "cell_type": "markdown",
      "source": [
        "# DATA Cleaning"
      ],
      "metadata": {
        "id": "12-ON3Qe-aCL"
      }
    },
    {
      "cell_type": "code",
      "execution_count": 5,
      "metadata": {
        "colab": {
          "base_uri": "https://localhost:8080/"
        },
        "id": "G1sw-miPf14n",
        "outputId": "d01897e8-9184-4d84-c699-31cddc6603a5"
      },
      "outputs": [
        {
          "output_type": "execute_result",
          "data": {
            "text/plain": [
              "DataFrame[timestamp: string, user_id: string, book_id: int, rating: string, rating_counts: double, categories: string, audio_runtime: string, audiobook_type: string, country: string, Price: double, THB_Price: double]"
            ]
          },
          "metadata": {},
          "execution_count": 5
        }
      ],
      "source": [
        "df.dropDuplicates()"
      ]
    },
    {
      "cell_type": "code",
      "source": [
        "# convert string to datetime\n",
        "\n",
        "df = df.withColumn(\"timestamp\",\n",
        "                        F.to_timestamp(df.timestamp, 'yyyy-MM-dd HH:mm:ss')\n",
        "                        )\n",
        "df.dtypes"
      ],
      "metadata": {
        "colab": {
          "base_uri": "https://localhost:8080/"
        },
        "id": "XUl9vRcK7Ipj",
        "outputId": "643717d6-cc40-4d46-b9c8-da9d101ffd67"
      },
      "execution_count": 6,
      "outputs": [
        {
          "output_type": "execute_result",
          "data": {
            "text/plain": [
              "[('timestamp', 'timestamp'),\n",
              " ('user_id', 'string'),\n",
              " ('book_id', 'int'),\n",
              " ('rating', 'string'),\n",
              " ('rating_counts', 'double'),\n",
              " ('categories', 'string'),\n",
              " ('audio_runtime', 'string'),\n",
              " ('audiobook_type', 'string'),\n",
              " ('country', 'string'),\n",
              " ('Price', 'double'),\n",
              " ('THB_Price', 'double')]"
            ]
          },
          "metadata": {},
          "execution_count": 6
        }
      ]
    },
    {
      "cell_type": "code",
      "source": [
        "# Try counting the transactions for the back-half of June.\n",
        "\n",
        "df.where( (F.dayofmonth(df.timestamp) <= 15) & ( F.month(df.timestamp) == 6 ) ).count()"
      ],
      "metadata": {
        "colab": {
          "base_uri": "https://localhost:8080/"
        },
        "id": "TlffbImtDSxW",
        "outputId": "3e7c4db9-ea1f-47e7-9e15-c2ef18de46ac"
      },
      "execution_count": 15,
      "outputs": [
        {
          "output_type": "execute_result",
          "data": {
            "text/plain": [
              "326077"
            ]
          },
          "metadata": {},
          "execution_count": 15
        }
      ]
    },
    {
      "cell_type": "code",
      "source": [
        "df.where(df['rating'] == 'Not rated yet').show()"
      ],
      "metadata": {
        "colab": {
          "base_uri": "https://localhost:8080/"
        },
        "id": "qsO5LfA6FbKN",
        "outputId": "913c1b6a-e537-4baa-9966-74b62ef65cdd"
      },
      "execution_count": 36,
      "outputs": [
        {
          "output_type": "stream",
          "name": "stdout",
          "text": [
            "+-------------------+--------+-------+-------------+-------------+----------+------------------+--------------+--------------------+-----+------------------+\n",
            "|          timestamp| user_id|book_id|       rating|rating_counts|categories|     audio_runtime|audiobook_type|             country|Price|         THB_Price|\n",
            "+-------------------+--------+-------+-------------+-------------+----------+------------------+--------------+--------------------+-----+------------------+\n",
            "|2021-05-01 00:47:04|e9410570|    256|Not rated yet|         null|      null|            12 hrs|          null|United States of ...|30.79|          958.8006|\n",
            "|2021-05-01 01:32:01|6cf1f6fd|   1127|Not rated yet|         null|      null|24 hrs and 30 mins|          null|               Spain| 49.0|1525.8600000000001|\n",
            "|2021-05-01 01:47:11|b109259f|   1144|Not rated yet|         null|      null|             9 hrs|          null|               Egypt| 28.0| 871.9200000000001|\n",
            "|2021-05-01 02:19:21|dc4915a5|   1147|Not rated yet|         null|      null|            12 hrs|          null|United States of ...|27.99|          871.6086|\n",
            "|2021-05-01 02:43:56|193b07dd|   1120|Not rated yet|         null|      null|14 hrs and 45 mins|          null|           Argentina|28.34|          882.5076|\n",
            "|2021-05-01 03:03:28|f7c6cd71|   1153|Not rated yet|         null|      null|             6 hrs|          null|          Montenegro| 24.5| 762.9300000000001|\n",
            "|2021-05-01 03:22:33|310d0544|   1122|Not rated yet|         null|      null|             8 hrs|          null|              Canada|22.67|          705.9438|\n",
            "|2021-05-01 03:37:43|58aa075b|   1195|Not rated yet|         null|      null|     Not Yet Known|          null|           Australia|34.99|         1089.5886|\n",
            "|2021-05-01 05:14:02|6957cbf8|   1171|Not rated yet|         null|      null|     Not Yet Known|          null|               Japan|28.35| 882.8190000000001|\n",
            "|2021-05-01 06:11:56|7b1c99d1|    679|Not rated yet|         null|      null|            14 hrs|          null|             Hungary| 35.0|            1089.9|\n",
            "|2021-05-01 06:50:36|e7577b86|   1147|Not rated yet|         null|      null|            12 hrs|          null|United States of ...|27.99|          871.6086|\n",
            "|2021-05-01 07:49:58|b82619da|   1152|Not rated yet|         null|      null|            12 hrs|          null|             Mexico | 31.5|            980.91|\n",
            "|2021-05-01 07:50:51|acc1a309|   1158|Not rated yet|         null|      null|            11 hrs|          null|            Slovakia|27.99|          871.6086|\n",
            "|2021-05-01 09:01:39|18408cb4|   1164|Not rated yet|         null|      null|16 hrs and 30 mins|          null|             Bahamas|34.99|         1089.5886|\n",
            "|2021-05-01 09:46:34|ff4a37cd|    679|Not rated yet|         null|      null|            14 hrs|          null|            Slovakia| 35.0|            1089.9|\n",
            "|2021-05-01 10:19:32|a33e59df|   1144|Not rated yet|         null|      null|             9 hrs|          null|United States of ...| 28.0| 871.9200000000001|\n",
            "|2021-05-01 10:23:42|545b0ef0|   1169|Not rated yet|         null|      null|             9 hrs|          null|              Norway| 28.0| 871.9200000000001|\n",
            "|2021-05-01 12:19:58|ad88b95d|   1128|Not rated yet|         null|      null|             7 hrs|          null|     United Kingdom | 17.0|            529.38|\n",
            "|2021-05-01 13:11:11|a904217a|   1129|Not rated yet|         null|      null|             8 hrs|          null|               Japan|29.65| 923.3009999999999|\n",
            "|2021-05-01 14:07:17|0c872a8e|   1132|Not rated yet|         null|      null|19 hrs and 30 mins|          null|United States of ...|31.18|          970.9452|\n",
            "+-------------------+--------+-------+-------------+-------------+----------+------------------+--------------+--------------------+-----+------------------+\n",
            "only showing top 20 rows\n",
            "\n"
          ]
        }
      ]
    },
    {
      "cell_type": "code",
      "source": [
        "df.where(df['rating'] == 'Not rated yet').count()"
      ],
      "metadata": {
        "colab": {
          "base_uri": "https://localhost:8080/"
        },
        "id": "FUKwHWI0HTt6",
        "outputId": "5fc493f1-a12e-4c5b-8179-1616c66b20c1"
      },
      "execution_count": 37,
      "outputs": [
        {
          "output_type": "execute_result",
          "data": {
            "text/plain": [
              "3621"
            ]
          },
          "metadata": {},
          "execution_count": 37
        }
      ]
    },
    {
      "cell_type": "markdown",
      "source": [
        "## Fill missing data"
      ],
      "metadata": {
        "id": "miA-XHyqkVvO"
      }
    },
    {
      "cell_type": "code",
      "source": [
        "diz = { \"Not rated yet\": '0', \"4 out of 5 stars\": '4', \"4.5 out of 5 stars\": '4.5', \"5 out of 5 stars\": '5' }\n",
        "\n",
        "# diz = {k:str(v) for k,v in diz.items()}\n",
        "# print(diz)"
      ],
      "metadata": {
        "id": "_J2afgmvLdEW"
      },
      "execution_count": 7,
      "outputs": []
    },
    {
      "cell_type": "code",
      "source": [
        "df = df.replace(diz,1,\"rating\")\n",
        "df = df.withColumn(\"rating_update\", F.when(df['rating'].isNull(), '0').otherwise(df['rating']))\n",
        "\n",
        "# Check the result\n",
        "\n",
        "df.select('rating_update').distinct().show(n=100, truncate=False, vertical=False)"
      ],
      "metadata": {
        "colab": {
          "base_uri": "https://localhost:8080/"
        },
        "id": "SOd5jM3TTJrs",
        "outputId": "02012350-65ef-4293-e526-cd6efdd79041"
      },
      "execution_count": 8,
      "outputs": [
        {
          "output_type": "stream",
          "name": "stderr",
          "text": [
            "/usr/local/lib/python3.10/dist-packages/pyspark/sql/dataframe.py:2213: UserWarning: to_replace is a dict and value is not None. value will be ignored.\n",
            "  warnings.warn(\"to_replace is a dict and value is not None. value will be ignored.\")\n"
          ]
        },
        {
          "output_type": "stream",
          "name": "stdout",
          "text": [
            "+-------------+\n",
            "|rating_update|\n",
            "+-------------+\n",
            "|3.1          |\n",
            "|4.2          |\n",
            "|3            |\n",
            "|4.4          |\n",
            "|3.8          |\n",
            "|2.7          |\n",
            "|2.9          |\n",
            "|4.5          |\n",
            "|0            |\n",
            "|2.5          |\n",
            "|4.9          |\n",
            "|3.4          |\n",
            "|5            |\n",
            "|3.3          |\n",
            "|1.8          |\n",
            "|4.3          |\n",
            "|3.5          |\n",
            "|4.8          |\n",
            "|4.1          |\n",
            "|4.6          |\n",
            "|3.6          |\n",
            "|1.5          |\n",
            "|2.8          |\n",
            "|3.2          |\n",
            "|2.2          |\n",
            "|1            |\n",
            "|3.7          |\n",
            "|4.7          |\n",
            "|4            |\n",
            "|2.3          |\n",
            "|3.9          |\n",
            "+-------------+\n",
            "\n"
          ]
        }
      ]
    },
    {
      "cell_type": "code",
      "source": [
        "# replace rating_update to rating\n",
        "\n",
        "df = df.drop(\"rating\").withColumnRenamed('rating_update', 'rating')"
      ],
      "metadata": {
        "id": "T3RPfHK2ab4H"
      },
      "execution_count": 10,
      "outputs": []
    },
    {
      "cell_type": "code",
      "source": [
        "# Now repeat the step above to other columns\n",
        "\n",
        "df = df.withColumn(\"rating_count_update\", F.when(df['rating_counts'].isNull(), '0').otherwise(df['rating_counts']))\n",
        "df = df.drop(\"rating_counts\").withColumnRenamed('rating_count_update', 'rating_counts')\n",
        "\n",
        "df = df.withColumn(\"categories_update\", F.when(df['categories'].isNull(), 'XX').otherwise(df['categories']))\n",
        "df = df.drop(\"categories\").withColumnRenamed('categories_update', 'categories')\n",
        "\n",
        "df = df.withColumn(\"audiobook_type_update\", F.when(df['audiobook_type'].isNull(), 'XX').otherwise(df['audiobook_type']))\n",
        "df = df.drop(\"audiobook_type\").withColumnRenamed('audiobook_type_update', 'audiobook_type')"
      ],
      "metadata": {
        "id": "7IalGYPq87Jf"
      },
      "execution_count": 9,
      "outputs": []
    },
    {
      "cell_type": "code",
      "source": [
        "df.dtypes"
      ],
      "metadata": {
        "colab": {
          "base_uri": "https://localhost:8080/"
        },
        "id": "mXxxrAr-PStA",
        "outputId": "4c950e6c-d2ef-4b83-e926-e21bc121526a"
      },
      "execution_count": 11,
      "outputs": [
        {
          "output_type": "execute_result",
          "data": {
            "text/plain": [
              "[('timestamp', 'timestamp'),\n",
              " ('user_id', 'string'),\n",
              " ('book_id', 'int'),\n",
              " ('audio_runtime', 'string'),\n",
              " ('country', 'string'),\n",
              " ('Price', 'double'),\n",
              " ('THB_Price', 'double'),\n",
              " ('rating', 'string'),\n",
              " ('rating_counts', 'string'),\n",
              " ('categories', 'string'),\n",
              " ('audiobook_type', 'string')]"
            ]
          },
          "metadata": {},
          "execution_count": 11
        }
      ]
    },
    {
      "cell_type": "code",
      "source": [
        "# convert 'rating', 'string' to 'rating', 'double(float)'\n",
        "\n",
        "df = df.withColumn(\"rating\",df.rating.cast('double'))\n",
        "df = df.withColumn(\"rating_counts\",df.rating.cast('int'))\n",
        "\n",
        "df.dtypes"
      ],
      "metadata": {
        "colab": {
          "base_uri": "https://localhost:8080/"
        },
        "id": "Gu_aHT51bWX-",
        "outputId": "fec43ae4-9c7f-4861-d744-33f9bda14571"
      },
      "execution_count": 12,
      "outputs": [
        {
          "output_type": "execute_result",
          "data": {
            "text/plain": [
              "[('timestamp', 'timestamp'),\n",
              " ('user_id', 'string'),\n",
              " ('book_id', 'int'),\n",
              " ('audio_runtime', 'string'),\n",
              " ('country', 'string'),\n",
              " ('Price', 'double'),\n",
              " ('THB_Price', 'double'),\n",
              " ('rating', 'double'),\n",
              " ('rating_counts', 'int'),\n",
              " ('categories', 'string'),\n",
              " ('audiobook_type', 'string')]"
            ]
          },
          "metadata": {},
          "execution_count": 12
        }
      ]
    },
    {
      "cell_type": "code",
      "source": [
        "# Check missing value\n",
        "\n",
        "df.select([ F.sum(F.col(colname).isNull().cast(\"int\")).alias(colname) for colname in df.columns ]).show()"
      ],
      "metadata": {
        "colab": {
          "base_uri": "https://localhost:8080/"
        },
        "id": "fj8KUIZWb7fX",
        "outputId": "1cd11cde-7e8e-4848-aa95-9963f9db4a2b"
      },
      "execution_count": 13,
      "outputs": [
        {
          "output_type": "stream",
          "name": "stdout",
          "text": [
            "+---------+-------+-------+-------------+-------+-----+---------+------+-------------+----------+--------------+\n",
            "|timestamp|user_id|book_id|audio_runtime|country|Price|THB_Price|rating|rating_counts|categories|audiobook_type|\n",
            "+---------+-------+-------+-------------+-------+-----+---------+------+-------------+----------+--------------+\n",
            "|        0|      0|      0|            0|      0|    0|        0|     0|            0|         0|             0|\n",
            "+---------+-------+-------+-------------+-------+-----+---------+------+-------------+----------+--------------+\n",
            "\n"
          ]
        }
      ]
    },
    {
      "cell_type": "markdown",
      "source": [
        "# ANOMALY Detection\n"
      ],
      "metadata": {
        "id": "_ObSisG3b3wG"
      }
    },
    {
      "cell_type": "code",
      "source": [
        "df.where(df[\"user_id\"].rlike(\"^[a-z0-9]{8}$\")).count()"
      ],
      "metadata": {
        "colab": {
          "base_uri": "https://localhost:8080/"
        },
        "id": "Jn9NczPcPfsl",
        "outputId": "fde04124-a006-4911-9312-2dd3ebc545e8"
      },
      "execution_count": 14,
      "outputs": [
        {
          "output_type": "execute_result",
          "data": {
            "text/plain": [
              "1998821"
            ]
          },
          "metadata": {},
          "execution_count": 14
        }
      ]
    },
    {
      "cell_type": "code",
      "source": [
        "anm = df.where(df[\"user_id\"].rlike(\"^[a-z0-9]{8}$\"))\n",
        "df_anormal = df.subtract(anm)\n",
        "\n",
        "df_anormal.show()"
      ],
      "metadata": {
        "colab": {
          "base_uri": "https://localhost:8080/"
        },
        "id": "ZtNqyp8lg64W",
        "outputId": "b845b8ad-b6ef-4a78-c879-e7de32f46009"
      },
      "execution_count": 15,
      "outputs": [
        {
          "output_type": "stream",
          "name": "stdout",
          "text": [
            "+---------+-------+-------+-------------+-------+-----+---------+------+-------------+----------+--------------+\n",
            "|timestamp|user_id|book_id|audio_runtime|country|Price|THB_Price|rating|rating_counts|categories|audiobook_type|\n",
            "+---------+-------+-------+-------------+-------+-----+---------+------+-------------+----------+--------------+\n",
            "+---------+-------+-------+-------------+-------+-----+---------+------+-------------+----------+--------------+\n",
            "\n"
          ]
        }
      ]
    },
    {
      "cell_type": "markdown",
      "source": [
        "## Finding outliers\n",
        "- From the exploratory data analysis (EDA), we have observed outliers in the price data."
      ],
      "metadata": {
        "id": "UXefPRTKlEPH"
      }
    },
    {
      "cell_type": "code",
      "source": [
        "sns.boxplot(x = df_pd['Price'])"
      ],
      "metadata": {
        "colab": {
          "base_uri": "https://localhost:8080/",
          "height": 466
        },
        "id": "-yiwaypcnHbp",
        "outputId": "65e7542a-e304-457e-9a1c-c42f5ce2c9cb"
      },
      "execution_count": 21,
      "outputs": [
        {
          "output_type": "execute_result",
          "data": {
            "text/plain": [
              "<Axes: xlabel='Price'>"
            ]
          },
          "metadata": {},
          "execution_count": 21
        },
        {
          "output_type": "display_data",
          "data": {
            "text/plain": [
              "<Figure size 640x480 with 1 Axes>"
            ],
            "image/png": "[encoded data removed]"
          },
          "metadata": {}
        }
      ]
    },
    {
      "cell_type": "code",
      "source": [
        "q = df_pd[\"Price\"].quantile(0.99)\n",
        "\n",
        "df.where( df.Price > q ).select(\"book_id\").distinct().show()"
      ],
      "metadata": {
        "colab": {
          "base_uri": "https://localhost:8080/"
        },
        "id": "HMQICfb-lWqR",
        "outputId": "d17f47df-bf24-489c-ce99-ac7376d5207a"
      },
      "execution_count": 22,
      "outputs": [
        {
          "output_type": "stream",
          "name": "stdout",
          "text": [
            "+-------+\n",
            "|book_id|\n",
            "+-------+\n",
            "|    737|\n",
            "|    631|\n",
            "|   1380|\n",
            "|   1410|\n",
            "|    646|\n",
            "|   1831|\n",
            "|    635|\n",
            "+-------+\n",
            "\n"
          ]
        }
      ]
    },
    {
      "cell_type": "markdown",
      "source": [
        "In this case, we checked the outlier by searching for *book_id: 635* (for example) from the [source](https://www.audible.com/pd/The-Power-Broker-Audiobook/B0051JH67K?ipRedirectOverride=true&overrideBaseCountry=true&pf_rd_p=2756bc30-e1e4-4174-bb22-bce00b971761&pf_rd_r=MF7KC1JQF3A6GK2ET8XM), and we confirmed that the data is correct. Therefore, we will take no action."
      ],
      "metadata": {
        "id": "mvjrxyt9p_pQ"
      }
    },
    {
      "cell_type": "markdown",
      "source": [
        "# Clean data with Spark SQL"
      ],
      "metadata": {
        "id": "41T_SEx_sO4r"
      }
    },
    {
      "cell_type": "code",
      "source": [
        "# Convert the Spark DataFrame to a TempView first.\n",
        "# and then you can query by SQL command\n",
        "\n",
        "df.createOrReplaceTempView(\"data\")\n",
        "\n",
        "df_sql = spark.sql(\"SELECT * FROM data\")\n",
        "df_sql.show()"
      ],
      "metadata": {
        "id": "2UWIT9-xr7D8"
      },
      "execution_count": null,
      "outputs": []
    },
    {
      "cell_type": "code",
      "source": [
        "df_sql_country = spark.sql(\n",
        "    \"\"\"\n",
        "    SELECT distinct country\n",
        "    FROM data\n",
        "    ORDER BY country\n",
        "    \"\"\"\n",
        "    )\n",
        "df_sql_country.show(20)"
      ],
      "metadata": {
        "id": "lejLs1eFV0fc"
      },
      "execution_count": null,
      "outputs": []
    },
    {
      "cell_type": "code",
      "source": [
        "df_sql_country = spark.sql(\n",
        "    \"\"\"\n",
        "    SELECT *\n",
        "    FROM data\n",
        "    WHERE user_id NOT RLIKE '^[a-z0-9]{8}$'\n",
        "    \"\"\"\n",
        "    )\n",
        "df_sql_country.show(20)"
      ],
      "metadata": {
        "id": "NrBHQ5IxYGMA"
      },
      "execution_count": null,
      "outputs": []
    },
    {
      "cell_type": "markdown",
      "source": [
        "# Export"
      ],
      "metadata": {
        "id": "9lVH4YOeY_TO"
      }
    },
    {
      "cell_type": "code",
      "source": [
        "# This method will save in folder and have partition inside\n",
        "\n",
        "# df.write.csv('/content/drive/MyDrive/myColab_Notebooks/Cleaned_data.csv', header = True)"
      ],
      "metadata": {
        "id": "0_wSz8c9Y86q"
      },
      "execution_count": null,
      "outputs": []
    },
    {
      "cell_type": "code",
      "source": [
        "# If you want to save in one file use this\n",
        "\n",
        "df.coalesce(1).write.csv('/content/drive/MyDrive/myColab_Notebooks/Cleaned_Data_Single.csv', header = True)"
      ],
      "metadata": {
        "id": "QsYEy2jlaMV3"
      },
      "execution_count": 23,
      "outputs": []
    },
    {
      "cell_type": "markdown",
      "source": [
        "- Results\n",
        "\n",
        "![Capture.JPG](data:image/jpeg;base64,/9j/4AAQSkZJRgABAQEAYABgAAD/4REGRXhpZgAATU0AKgAAAAgABAE7AAIAAAAUAAAISodpAAQAAAABAAAIXpydAAEAAAAoAAAQ1uocAAcAAAgMAAAAPgAAAAAc6gAAAAgAAAAAAAAAAAAAAAAAAAAAAAAAAAAAAAAAAAAAAAAAAAAAAAAAAAAAAAAAAAAAAAAAAAAAAAAAAAAAAAAAAAAAAAAAAAAAAAAAAAAAAAAAAAAAAAAAAAAAAAAAAAAAAAAAAAAAAAAAAAAAAAAAAAAAAAAAAAAAAAAAAAAAAAAAAAAAAAAAAAAAAAAAAAAAAAAAAAAAAAAAAAAAAAAAAAAAAAAAAAAAAAAAAAAAAAAAAAAAAAAAAAAAAAAAAAAAAAAAAAAAAAAAAAAAAAAAAAAAAAAAAAAAAAAAAAAAAAAAAAAAAAAAAAAAAAAAAAAAAAAAAAAAAAAAAAAAAAAAAAAAAAAAAAAAAAAAAAAAAAAAAAAAAAAAAAAAAAAAAAAAAAAAAAAAAAAAAAAAAAAAAAAAAAAAAAAAAAAAAAAAAAAAAAAAAAAAAAAAAAAAAAAAAAAAAAAAAAAAAAAAAAAAAAAAAAAAAAAAAAAAAAAAAAAAAAAAAAAAAAAAAAAAAAAAAAAAAAAAAAAAAAAAAAAAAAAAAAAAAAAAAAAAAAAAAAAAAAAAAAAAAAAAAAAAAAAAAAAAAAAAAAAAAAAAAAAAAAAAAAAAAAAAAAAAAAAAAAAAAAAAAAAAAAAAAAAAAAAAAAAAAAAAAAAAAAAAAAAAAAAAAAAAAAAAAAAAAAAAAAAAAAAAAAAAAAAAAAAAAAAAAAAAAAAAAAAAAAAAAAAAAAAAAAAAAAAAAAAAAAAAAAAAAAAAAAAAAAAAAAAAAAAAAAAAAAAAAAAAAAAAAAAAAAAAAAAAAAAAAAAAAAAAAAAAAAAAAAAAAAAAAAAAAAAAAAAAAAAAAAAAAAAAAAAAAAAAAAAAAAAAAAAAAAAAAAAAAAAAAAAAAAAAAAAAAAAAAAAAAAAAAAAAAAAAAAAAAAAAAAAAAAAAAAAAAAAAAAAAAAAAAAAAAAAAAAAAAAAAAAAAAAAAAAAAAAAAAAAAAAAAAAAAAAAAAAAAAAAAAAAAAAAAAAAAAAAAAAAAAAAAAAAAAAAAAAAAAAAAAAAAAAAAAAAAAAAAAAAAAAAAAAAAAAAAAAAAAAAAAAAAAAAAAAAAAAAAAAAAAAAAAAAAAAAAAAAAAAAAAAAAAAAAAAAAAAAAAAAAAAAAAAAAAAAAAAAAAAAAAAAAAAAAAAAAAAAAAAAAAAAAAAAAAAAAAAAAAAAAAAAAAAAAAAAAAAAAAAAAAAAAAAAAAAAAAAAAAAAAAAAAAAAAAAAAAAAAAAAAAAAAAAAAAAAAAAAAAAAAAAAAAAAAAAAAAAAAAAAAAAAAAAAAAAAAAAAAAAAAAAAAAAAAAAAAAAAAAAAAAAAAAAAAAAAAAAAAAAAAAAAAAAAAAAAAAAAAAAAAAAAAAAAAAAAAAAAAAAAAAAAAAAAAAAAAAAAAAAAAAAAAAAAAAAAAAAAAAAAAAAAAAAAAAAAAAAAAAAAAAAAAAAAAAAAAAAAAAAAAAAAAAAAAAAAAAAAAAAAAAAAAAAAAAAAAAAAAAAAAAAAAAAAAAAAAAAAAAAAAAAAAAAAAAAAAAAAAAAAAAAAAAAAAAAAAAAAAAAAAAAAAAAAAAAAAAAAAAAAAAAAAAAAAAAAAAAAAAAAAAAAAAAAAAAAAAAAAAAAAAAAAAAAAAAAAAAAAAAAAAAAAAAAAAAAAAAAAAAAAAAAAAAAAAAAAAAAAAAAAAAAAAAAAAAAAAAAAAAAAAAAAAAAAAAAAAAAAAAAAAAAAAAAAAAAAAAAAAAAAAAAAAAAAAAAAAAAAAAAAAAAAAAAAAAAAAAAAAAAAAAAAAAAAAAAAAAAAAAAAAAAAAAAAAAAAAAAAAAAAAAAAAAAAAAAAAAAAAAAAAAAAAAAAAAAAAAAAAAAAAAAAAAAAAAAAAAAAAAAAAAAAAAAAAAAAAAAAAAAAAAAAAAAAAAAAAAAAAAAAAAAAAAAAAAAAAAAAAAAAAAAAAAAAAAAAAAAAAAAAAAAAAAAAAAAAAAAAAAAAAAAAAAAAAAAAAAAAAAAAAAAAAAAAAAAAAAAAAAAAAAAAAAAAAAAAAAAAAAAAAAAAAAAAAAAAAAAAAAAAAAAAAAAAAAAAAAAAAAAAAAAAAAAAAAAAAAAAAAAAAAAAAAAAAAAAAAAAAAAAAAAAAAAAAAAAAAAAAAAAAAAAAAAAAAAAAAAAAAAAAAAAAAAAAAAAAAAAAAAAAAAAAAAAAAAAAAAAAAAAAAAAAAAAAAAAAAAAAAAAAAAAAAAAAAAAAAAAAAAAAAAAAAAAAAAAAAAAAAAAAAAAAAAAAAAAAAAAAAAAAAAAAAAAAAAAAAAAAAAAAAAAAAAAAAAAAAAAAAAAAAAAAAAAAAAAAAAAAAAAAAAAAAAAAAAAAAAAAAAAAAAAAAAAAAAAAAAAAAAAAAAAAAAAAAAAAAAAAAAAAAAAAAAAAAAAAAAAAAAAAAAAAAAAAAAAAAAAAAAAAAAAAAAAAAAAAAAAAAAAAAAAAAAAAAAAAAAAAAAAAAAAAAAAAAAAAAAAAAAAAAAAAAAAAAAAAAAAAAAAAAAAAAAAAAAAAAAAAAAAAAAAAAAAAAAAAAAAAAAAAAAAAAAAAAAAAAAAAAAAAAAAAAAAAAAAAAAAAAAAAAAAAAAAAAAAAAAAAAAAAAAAAAAAAAAAAAAAAAAAAAAAAAAAAAAAAAAAAAAAAAAAAAAAAAAAAAAAAAAAAAAAAAAAAAAAAAAAAAAAAAAAAAAAAAAAAAAAAAAAAFB1bm5hdGhvcm4gTWluZ2t3YW4AAAWQAwACAAAAFAAAEKyQBAACAAAAFAAAEMCSkQACAAAAAzMzAACSkgACAAAAAzMzAADqHAAHAAAIDAAACKAAAAAAHOoAAAAIAAAAAAAAAAAAAAAAAAAAAAAAAAAAAAAAAAAAAAAAAAAAAAAAAAAAAAAAAAAAAAAAAAAAAAAAAAAAAAAAAAAAAAAAAAAAAAAAAAAAAAAAAAAAAAAAAAAAAAAAAAAAAAAAAAAAAAAAAAAAAAAAAAAAAAAAAAAAAAAAAAAAAAAAAAAAAAAAAAAAAAAAAAAAAAAAAAAAAAAAAAAAAAAAAAAAAAAAAAAAAAAAAAAAAAAAAAAAAAAAAAAAAAAAAAAAAAAAAAAAAAAAAAAAAAAAAAAAAAAAAAAAAAAAAAAAAAAAAAAAAAAAAAAAAAAAAAAAAAAAAAAAAAAAAAAAAAAAAAAAAAAAAAAAAAAAAAAAAAAAAAAAAAAAAAAAAAAAAAAAAAAAAAAAAAAAAAAAAAAAAAAAAAAAAAAAAAAAAAAAAAAAAAAAAAAAAAAAAAAAAAAAAAAAAAAAAAAAAAAAAAAAAAAAAAAAAAAAAAAAAAAAAAAAAAAAAAAAAAAAAAAAAAAAAAAAAAAAAAAAAAAAAAAAAAAAAAAAAAAAAAAAAAAAAAAAAAAAAAAAAAAAAAAAAAAAAAAAAAAAAAAAAAAAAAAAAAAAAAAAAAAAAAAAAAAAAAAAAAAAAAAAAAAAAAAAAAAAAAAAAAAAAAAAAAAAAAAAAAAAAAAAAAAAAAAAAAAAAAAAAAAAAAAAAAAAAAAAAAAAAAAAAAAAAAAAAAAAAAAAAAAAAAAAAAAAAAAAAAAAAAAAAAAAAAAAAAAAAAAAAAAAAAAAAAAAAAAAAAAAAAAAAAAAAAAAAAAAAAAAAAAAAAAAAAAAAAAAAAAAAAAAAAAAAAAAAAAAAAAAAAAAAAAAAAAAAAAAAAAAAAAAAAAAAAAAAAAAAAAAAAAAAAAAAAAAAAAAAAAAAAAAAAAAAAAAAAAAAAAAAAAAAAAAAAAAAAAAAAAAAAAAAAAAAAAAAAAAAAAAAAAAAAAAAAAAAAAAAAAAAAAAAAAAAAAAAAAAAAAAAAAAAAAAAAAAAAAAAAAAAAAAAAAAAAAAAAAAAAAAAAAAAAAAAAAAAAAAAAAAAAAAAAAAAAAAAAAAAAAAAAAAAAAAAAAAAAAAAAAAAAAAAAAAAAAAAAAAAAAAAAAAAAAAAAAAAAAAAAAAAAAAAAAAAAAAAAAAAAAAAAAAAAAAAAAAAAAAAAAAAAAAAAAAAAAAAAAAAAAAAAAAAAAAAAAAAAAAAAAAAAAAAAAAAAAAAAAAAAAAAAAAAAAAAAAAAAAAAAAAAAAAAAAAAAAAAAAAAAAAAAAAAAAAAAAAAAAAAAAAAAAAAAAAAAAAAAAAAAAAAAAAAAAAAAAAAAAAAAAAAAAAAAAAAAAAAAAAAAAAAAAAAAAAAAAAAAAAAAAAAAAAAAAAAAAAAAAAAAAAAAAAAAAAAAAAAAAAAAAAAAAAAAAAAAAAAAAAAAAAAAAAAAAAAAAAAAAAAAAAAAAAAAAAAAAAAAAAAAAAAAAAAAAAAAAAAAAAAAAAAAAAAAAAAAAAAAAAAAAAAAAAAAAAAAAAAAAAAAAAAAAAAAAAAAAAAAAAAAAAAAAAAAAAAAAAAAAAAAAAAAAAAAAAAAAAAAAAAAAAAAAAAAAAAAAAAAAAAAAAAAAAAAAAAAAAAAAAAAAAAAAAAAAAAAAAAAAAAAAAAAAAAAAAAAAAAAAAAAAAAAAAAAAAAAAAAAAAAAAAAAAAAAAAAAAAAAAAAAAAAAAAAAAAAAAAAAAAAAAAAAAAAAAAAAAAAAAAAAAAAAAAAAAAAAAAAAAAAAAAAAAAAAAAAAAAAAAAAAAAAAAAAAAAAAAAAAAAAAAAAAAAAAAAAAAAAAAAAAAAAAAAAAAAAAAAAAAAAAAAAAAAAAAAAAAAAAAAAAAAAAAAAAAAAAAAAAAAAAAAAAAAAAAAAAAAAAAAAAAAAAAAAAAAAAAAAAAAAAAAAAAAAAAAAAAAAAAAAAAAAAAAAAAAAAAAAAAAAAAAAAAAAAAAAAAAAAAAAAAAAAAAAAAAAAAAAAAAAAAAAAAAAAAAAAAAAAAAAAAAAAAAAAAAAAAAAAAAAAAAAAAAAAAAAAAAAAAAAAAAAAAAAAAAAAAAAAAAAAAAAAAAAAAAAAAAAAAAAAAAAAAAAAAAAAAAAAAAAAAAAAAAAAAAAAAAAAAAAAAAAAAAAAAAAAAAAAAAAAAAAAAAAAAAAAAAAAAAAAAAAAAAAAAAAAAAAAAAAAAAAAAAAAAAAAAAAAAAAAAAAAAAAAAAAAAAAAAAAAAAAAAAAAAAAAAAAAAAAAAAAAAAAAAAAAAAAAAAAAAAAAAAAAAAAAAAAAAAAAAAAAAAAAAAAAAAAAAAAAAAAAAAAAAAAAAAAAAAAAAAAAAAAAAAAAAAAAAAAAAAAAAAAAAAAAAAAAAAAAAAAAAAAAAAAAAAAAAAAAAAAAAAAAAAAAAAAAAAAAAAAAAAAAAAAAAAAAAAAAAAAAAAAAAAAAAAAAAAAAAAAAAAAAAAAAAAAAAAAAAAAAAAAAAAAAAAAAAAAAAAAAAAAAAAAAAAAAAAAAAAAAAAAAAAAAAAAAAAAAAAAAAAAAAAAAAAAAAAAAAAAAAAAAAAAAAAAAAAAAAAAAAAAAAAAAAAAAAAAAAAAAAAAAAAAAAAAAAAAAAAAAAAAAAAAAAAAAAAAAAAAAAAAAAAAAAAAAAAAAAAAAAAAAAAAAAAAAAAAAAAAAAAAAAAAAAAAAAAAAAAAAAAAAAAAAAAAAAAAAAyMDIzOjA3OjE5IDA2OjUxOjI3ADIwMjM6MDc6MTkgMDY6NTE6MjcAAABQAHUAbgBuAGEAdABoAG8AcgBuACAATQBpAG4AZwBrAHcAYQBuAAAA/+ELJmh0dHA6Ly9ucy5hZG9iZS5jb20veGFwLzEuMC8APD94cGFja2V0IGJlZ2luPSfvu78nIGlkPSdXNU0wTXBDZWhpSHpyZVN6TlRjemtjOWQnPz4NCjx4OnhtcG1ldGEgeG1sbnM6eD0iYWRvYmU6bnM6bWV0YS8iPjxyZGY6UkRGIHhtbG5zOnJkZj0iaHR0cDovL3d3dy53My5vcmcvMTk5OS8wMi8yMi1yZGYtc3ludGF4LW5zIyI+PHJkZjpEZXNjcmlwdGlvbiByZGY6YWJvdXQ9InV1aWQ6ZmFmNWJkZDUtYmEzZC0xMWRhLWFkMzEtZDMzZDc1MTgyZjFiIiB4bWxuczpkYz0iaHR0cDovL3B1cmwub3JnL2RjL2VsZW1lbnRzLzEuMS8iLz48cmRmOkRlc2NyaXB0aW9uIHJkZjphYm91dD0idXVpZDpmYWY1YmRkNS1iYTNkLTExZGEtYWQzMS1kMzNkNzUxODJmMWIiIHhtbG5zOnhtcD0iaHR0cDovL25zLmFkb2JlLmNvbS94YXAvMS4wLyI+PHhtcDpDcmVhdGVEYXRlPjIwMjMtMDctMTlUMDY6NTE6MjcuMzI2PC94bXA6Q3JlYXRlRGF0ZT48L3JkZjpEZXNjcmlwdGlvbj48cmRmOkRlc2NyaXB0aW9uIHJkZjphYm91dD0idXVpZDpmYWY1YmRkNS1iYTNkLTExZGEtYWQzMS1kMzNkNzUxODJmMWIiIHhtbG5zOmRjPSJodHRwOi8vcHVybC5vcmcvZGMvZWxlbWVudHMvMS4xLyI+PGRjOmNyZWF0b3I+PHJkZjpTZXEgeG1sbnM6cmRmPSJodHRwOi8vd3d3LnczLm9yZy8xOTk5LzAyLzIyLXJkZi1zeW50YXgtbnMjIj48cmRmOmxpPlB1bm5hdGhvcm4gTWluZ2t3YW48L3JkZjpsaT48L3JkZjpTZXE+DQoJCQk8L2RjOmNyZWF0b3I+PC9yZGY6RGVzY3JpcHRpb24+PC9yZGY6UkRGPjwveDp4bXBtZXRhPg0KICAgICAgICAgICAgICAgICAgICAgICAgICAgICAgICAgICAgICAgICAgICAgICAgICAgICAgICAgICAgICAgICAgICAgICAgICAgICAgICAgICAgICAgICAgICAgICAgICAgIAogICAgICAgICAgICAgICAgICAgICAgICAgICAgICAgICAgICAgICAgICAgICAgICAgICAgICAgICAgICAgICAgICAgICAgICAgICAgICAgICAgICAgICAgICAgICAgICAgICAgCiAgICAgICAgICAgICAgICAgICAgICAgICAgICAgICAgICAgICAgICAgICAgICAgICAgICAgICAgICAgICAgICAgICAgICAgICAgICAgICAgICAgICAgICAgICAgICAgICAgICAKICAgICAgICAgICAgICAgICAgICAgICAgICAgICAgICAgICAgICAgICAgICAgICAgICAgICAgICAgICAgICAgICAgICAgICAgICAgICAgICAgICAgICAgICAgICAgICAgICAgIAogICAgICAgICAgICAgICAgICAgICAgICAgICAgICAgICAgICAgICAgICAgICAgICAgICAgICAgICAgICAgICAgICAgICAgICAgICAgICAgICAgICAgICAgICAgICAgICAgICAgCiAgICAgICAgICAgICAgICAgICAgICAgICAgICAgICAgICAgICAgICAgICAgICAgICAgICAgICAgICAgICAgICAgICAgICAgICAgICAgICAgICAgICAgICAgICAgICAgICAgICAKICAgICAgICAgICAgICAgICAgICAgICAgICAgICAgICAgICAgICAgICAgICAgICAgICAgICAgICAgICAgICAgICAgICAgICAgICAgICAgICAgICAgICAgICAgICAgICAgICAgIAogICAgICAgICAgICAgICAgICAgICAgICAgICAgICAgICAgICAgICAgICAgICAgICAgICAgICAgICAgICAgICAgICAgICAgICAgICAgICAgICAgICAgICAgICAgICAgICAgICAgCiAgICAgICAgICAgICAgICAgICAgICAgICAgICAgICAgICAgICAgICAgICAgICAgICAgICAgICAgICAgICAgICAgICAgICAgICAgICAgICAgICAgICAgICAgICAgICAgICAgICAKICAgICAgICAgICAgICAgICAgICAgICAgICAgICAgICAgICAgICAgICAgICAgICAgICAgICAgICAgICAgICAgICAgICAgICAgICAgICAgICAgICAgICAgICAgICAgICAgICAgIAogICAgICAgICAgICAgICAgICAgICAgICAgICAgICAgICAgICAgICAgICAgICAgICAgICAgICAgICAgICAgICAgICAgICAgICAgICAgICAgICAgICAgICAgICAgICAgICAgICAgCiAgICAgICAgICAgICAgICAgICAgICAgICAgICAgICAgICAgICAgICAgICAgICAgICAgICAgICAgICAgICAgICAgICAgICAgICAgICAgICAgICAgICAgICAgICAgICAgICAgICAKICAgICAgICAgICAgICAgICAgICAgICAgICAgICAgICAgICAgICAgICAgICAgICAgICAgICAgICAgICAgICAgICAgICAgICAgICAgICAgICAgICAgICAgICAgICAgICAgICAgIAogICAgICAgICAgICAgICAgICAgICAgICAgICAgICAgICAgICAgICAgICAgICAgICAgICAgICAgICAgICAgICAgICAgICAgICAgICAgICAgICAgICAgICAgICAgICAgICAgICAgCiAgICAgICAgICAgICAgICAgICAgICAgICAgICAgICAgICAgICAgICAgICAgICAgICAgICAgICAgICAgICAgICAgICAgICAgICAgICAgICAgICAgICAgICAgICAgICAgICAgICAKICAgICAgICAgICAgICAgICAgICAgICAgICAgICAgICAgICAgICAgICAgICAgICAgICAgICAgICAgICAgICAgICAgICAgICAgICAgICAgICAgICAgICAgICAgICAgICAgICAgIAogICAgICAgICAgICAgICAgICAgICAgICAgICAgICAgICAgICAgICAgICAgICAgICAgICAgICAgICAgICAgICAgICAgICAgICAgICAgICAgICAgICAgICAgICAgICAgICAgICAgCiAgICAgICAgICAgICAgICAgICAgICAgICAgICAgICAgICAgICAgICAgICAgICAgICAgICAgICAgICAgICAgICAgICAgICAgICAgICAgICAgICAgICAgICAgICAgICAgICAgICAKICAgICAgICAgICAgICAgICAgICAgICAgICAgICAgICAgICAgICAgICAgICAgICAgICAgICAgICAgICAgICAgICAgICAgICAgICAgICAgICAgICAgICAgICAgICAgICAgICAgIAogICAgICAgICAgICAgICAgICAgICAgICAgICAgICAgICAgICAgICAgICAgICAgICAgICAgICAgICAgICAgICAgICAgICAgICAgICAgICAgICAgICAgICAgICAgICAgICAgICAgCiAgICAgICAgICAgICAgICAgICAgICAgICAgICA8P3hwYWNrZXQgZW5kPSd3Jz8+/9sAQwAHBQUGBQQHBgUGCAcHCAoRCwoJCQoVDxAMERgVGhkYFRgXGx4nIRsdJR0XGCIuIiUoKSssKxogLzMvKjInKisq/9sAQwEHCAgKCQoUCwsUKhwYHCoqKioqKioqKioqKioqKioqKioqKioqKioqKioqKioqKioqKioqKioqKioqKioqKioq/8AAEQgA4gFpAwEiAAIRAQMRAf/EAB8AAAEFAQEBAQEBAAAAAAAAAAABAgMEBQYHCAkKC//EALUQAAIBAwMCBAMFBQQEAAABfQECAwAEEQUSITFBBhNRYQcicRQygZGhCCNCscEVUtHwJDNicoIJChYXGBkaJSYnKCkqNDU2Nzg5OkNERUZHSElKU1RVVldYWVpjZGVmZ2hpanN0dXZ3eHl6g4SFhoeIiYqSk5SVlpeYmZqio6Slpqeoqaqys7S1tre4ubrCw8TFxsfIycrS09TV1tfY2drh4uPk5ebn6Onq8fLz9PX29/j5+v/EAB8BAAMBAQEBAQEBAQEAAAAAAAABAgMEBQYHCAkKC//EALURAAIBAgQEAwQHBQQEAAECdwABAgMRBAUhMQYSQVEHYXETIjKBCBRCkaGxwQkjM1LwFWJy0QoWJDThJfEXGBkaJicoKSo1Njc4OTpDREVGR0hJSlNUVVZXWFlaY2RlZmdoaWpzdHV2d3h5eoKDhIWGh4iJipKTlJWWl5iZmqKjpKWmp6ipqrKztLW2t7i5usLDxMXGx8jJytLT1NXW19jZ2uLj5OXm5+jp6vLz9PX29/j5+v/aAAwDAQACEQMRAD8A+kaM4orhPizqd7pnhiFrC4eBpJwrMhwSMZxmgDus0tfM1p4w16xvIrmLUp3aNshZHJU+xFdSPjPrv/PpZ/8AfJ/xoA9workfh94vuPF2mXEt5bpDNbuFJjPDA89Pwq344u7y20GOLTp/s815cx23nAcornBI98UAdHmgHPSuPbwP/Zl1YXvh26mhuoJl+0efO7rcxdHDAnrzkH1FVtO1yLRdR8Y318ZZIoL+MJGvJJMSYVQe5JoA7miub07xTcTatDp+taTJpc9xG0tvmYSiQL1BwAQ3tzVd/Gl1b3Vq99oVxa6ZdXAtku5ZlDh2OFzHjIBPHX8KAOsorkLrxpfDVNWs9L8Oz3/9luqzSi4VFYFA/GRnPPT261bl8YQNpemXOm2z3lxqibra2DhSeMnLHgAdzQB0lJuAYAnk9BXK/wDCdQWmjX91rNhcWV1YOsctoMSMzPjZsYYDBsjnis19W1S+8feGY9T0iXTCUuX/AOPhZUfMY4yMHI+mOetAHe0zzo923zF3emeaeeleY+F/Cmn6/Hrd1dGeO+/tKdIruKZleLB4xg9qAPTqK4zw/wCJ71vBttNJa3Gq3y3T2J8pQN7I7J5jnoo+XJP6U6TxhqMmm6zDHpHkazpsYc2rXIZGRgcOr7eRweCB0oA7GiuO0TxTq8vgqx1G+0iW7vrkKEjtHDCTP8THACD8609C8SvqmpXmmahYtYajZqjyQeaJVKN91gwA9D2oA3qb5i7sbhn0zzUN+Lg6fP8AYcfaPLbyt3Tdjj9a8t0W30u6SCC81K80fxlnLtetIpeTPO3OFdT2ANAHrOQTjPPpS1x95rdto+ua5cvayS3VhpcdxM4mIWVRuO0L0U8Hn3p1l43uZdQ02PUtBubC01QhLW5eZXy5UsFZR93IHHJ/CgDrqMjOM8+lcjeeNrhbrUP7L0OfUbLTSVubiOZUO8DJCKfvY78iq0Wrf2p418OXyBoYrrTJpTGWzjlOtAHb0Vx6+PGaFtR/sacaGsmz+0fNXkZx5nl9dme+c45xXT31/b6dps19dPtghQu7DngelAFmiuX0/wAXXVxfWkeo6JPYW98SLadpQxPGRvXqhI+tRQeNri5ka4t9CuptMF0bX7TE4d8htpbyhyFBB5znvjFAHW0Vgt4qghfW1u4GgOkgOwZs+ahXIYfUgitTTrpr7Tbe6eFoGmjVzGxyVyM4oAtUUUUAFFFFABRRRQAUUUUAFFFFABRRRQAUUUUAFeb/ABpfb4Zslwfmufy+U16RWfrWiWOv2Bs9Th82HcGxnBBHvQB8uUlfQI+FXhb/AJ85f+/po/4VV4V/585f+/poAxPgmhGi6k/ZplH6Gu08V6Lca7owgsbhbe7hmSeB3GV3qcgN7HpVjQ9A07w7Ym00qDyoyxZsnJY+5rSoA5EXPi/V7yyt5dMXQ7eGZZLy6+1pL56jrHGoGcE45baQPeszVvBN/q8HieB44lF5fQ3Vp5zAxzBET5WxkgZUjpXoNFAHB+HPDohv2nTwRY+H50gZReLNG77yMfIEzx7kg+1c7deD9euYbGKbwtby6ha6hBcz6zJexySTKsoZthb5unY7RxxmvXqCM0Ac1pWj3lprHimeaMCPUZ0e3IYHcBAqH6cgjmuVfwFd/wDCNeHDe6ZBqk+lQNFPpkkihZAx6hj8uR78e9enmkxQB55L4Ke+8LX9vpvh6z0C5aeG4tohOG8xo2DASbRgZwRwT1q4za9qHibSdW1XQ/7MstLjnMxN0s0jFowOEQHI49cn0FdvjBpaAOcg8c6PczpDFHqYdztG/SrlRn3JQAfjWDo6eKtATVrOx8Om4kub2We3u5LuJIQGPBYZL8em2vQaTAznvQB5/f8AhPV7DwjpdnYomqNDdNc6lZJN9nW+3hiyhuwDsGweDjmo/DfhO+tdY8QT/wBg2uhWuoWUcMEMEqMAw3AlgvAbkZxke5r0SigDzhtB8Rz+BdM02TTfn02YLcWQvFVb+Jc9HHQHrtbGehpvhjSp/C/iTWNdv/Dkeh6ZPZwolvZETsGVmBykYyWOQeAR716SBS0Ac3H4tsdYZrHTH1G2uplIiml0udFRscEl0C/nWJq1n4q13Rv7E1DQrX7QSqnVvtCGJcHPmqmN4bjpjAJ6131FAHDax4Y1O6uPERgjEgvNFS0t2LqPMkCvkdeOo5PHNaWpaPfT2vhdIYQWsLuGS5+dRsVYmUnrzyR0rp6DQB5zetrnhqw8R21np9vqFncNLPHcm7SIQF1+ZZFPzcdsA59qs+H9Ivp5PC18YD9mh0p4Z33AFGfaRwTnsa6O98IaFqOoG9vNOjediC7BmUOR0LKDhj9Qa2goVQqgAAYAHagDzPTPBb6VbxaXc+DdL1OSN8LqjOio8e4kGQEb94HYAgnvXWa3p134hsNT0W4sltrRolFtdecD5jdfujlQCB9a6GigDl9LufE8t3Z2d5o9vZ21uMXFybhZBMAMARqPmHPPzAVz994e1271cS2+hR6dqZulZ9asb7y4XiDAsWizuZiBtwQeuc16RRQBxfijwzf6n4osLqx2/ZJ0EGohv4o1YOvGR3yO/WuzVQqgKAABgAdqWigAooooAKKKKACiiigAooooAKKKKACiiigAooooAKKKKACiiigArI1LxVomkXf2bUtRht5tobY2c4P0Fa9fPPxO58f32f8AZ/lQB7bp/i3QtVvFtNP1KGedwSsak5OOT1rZr5+8FSeH/wCy7+DXL86fc745bO6RW3xOM/MpH4ZHevW/A3iSXxDpM32po5bi0l8l7iHISfjIcAgEZ7j/APUADpqKKD0NABRXkEUGhebcWPjua603xNPdTNBqdzvRD8x2NDIDsVQNuEyOnIrqLBLiD4lWMF1efbJF0Yh5wu0SnePmxk9fqaAO3o71w2oX0mn/ABC1q7j+Y22grMqMeCVZz/SoLDwHa6r4Xt9RubiZvENzALgaoJXWSOVvmG3n5VBbG0dqAPQKK4fU7W617xRpvh/Vpme0hsTc3ogcxrcSAhecYO3JJxVuDwu3h+51GTSrjydJms2zYksdkoB+Zck4GOwxQB1tJXkHgS18EXnh3SEv9Gll1OSNd8x0u4Ks/r5mzafrnFafiL+zIPGN83xBt7yTSXEZ024KSNawfLhgxT7j57nHHegD02ivOtZsr2PwPb/2bqd1reli6EsptGLTPaf3AwYl8cdCDirXg+Hw1PrAuvBWqeRFGjJfaX8w3H+FjG5BjYEHnHOTQB3dFFFABRRRQAYooooAKKKKACiiigAooooAKKKKACiiigAooooAKKKKACiiigAooooAKKKKACiiigAooooAK+ePib/yP19/wH+VfQ9edeLvha3iLXJNSttRWBpcb0kj3Dj0xQB4iK9o+ChzoGof9fC/+g1mD4Iz/wDQYj/79H/Gu58E+Eh4R0qa1Nx9oeaXez7cDpgDFAG/d3KWdpJcSLI6xruKxoWY/QDrWHbeMrK9uY7aOy1WJpW2B5LCRVUnuSRgV0VFAHC3Nr4vm0e50PUtNstXWZGRdQeZURgc4LxkZyOOgNOXwzrGgz6Pf6Ts1OexsBY3EMsvlmVeDuViMZBHQ13FFAHIaf4f1HVNU1XVfEEMdob+zFklrHL5hjj+bJLDjJ3dqrWkHjTTNGTQbWztZjDH5EOqvcAAJjCs0eM7gMDGMEjrXcUUAcnquiapZ6hp2s6MEv76zt/s08U7hDcocZO7oGyM+nNS2tt4g1G4vLzVUWxia1aCCwSUPyR99mHGe3FdPRQBwfheTxV4f8M6fpMvhczNaRCIypfRANjvgmtS6k8VWGqXT21lDq9hcgNFE86xPbHbgocjDKTznOetdRRQBwmk+GvEOheH92lzW8V0bt7t9OBHklW/5ZBscYPOQKs2ulavq3jax1zU9Nt9LWwhkjAWQSS3BcAYJXjaMZ5712VFABRRRQAUUUUAFFFFABRRRQAUUUUAFFFFABRRRQAUUUUAFFFFABRRRQAUUUUAFFFFABRRRQAUUUUAFFFFABWLqnjDQdFvTaanqMdvOFDFCrE4P0FbVfPPxPOPHt7/AMB7e1AHtel+MvD+s3y2mmanDPOwJVMFS2OuMgZOOcegNbdfPfgy48PLpeo22v3T2czPHJaXManzIXXPzKR07cV634D8STeIdJmF08c81nL5LXMYws4xkPjsSOo//VQB1NFMmfy4XcDO1SceuK4OH4hat/YVvr934dWLRmI8+dbsPJEucb9gXlc++fagDv6K5vW/EWqWN5JFpmkxTxRRh2nuroQK5IztTIO4gde3NUbrx3M+naHcaLpZvpNYLKkTTBNhUHOT0xkGgDsqK4SfXvFK/EXStOa1tYbWe1eSWD7Ruzgrls7M5GTgdD7Vo+PNa+yeCr+TTrxVuCY4d0Tgsm+RUJ68H5jQB1WR60ZrgJtIsfCHjfQE0GA2qX5eC6RXJE2FyGbPVge9ZR0621fwTrfim7Dvq8Ulw9vdhyHt/LJChDn5Rx0HWgD1TIozXnUa23jLxfY2OtRyXNnBosV59nkc+XJK7Y3Mo4JA6Z9TVCSWaz0K+0G2mlSxj1yKwjHmEvHA4QlA2c45IHfBoA9UBz05oyPWvO3sbDwX45hh0OJrS1vrCaSS2iYmMvHyH2k4Bx371kRadbp8MbXxjH5v9voY7n7eZGMjlpVDIxzyhBxt6UAet0ZrL1m+8vTL1bCaNr5YH8qNXG/djjivMLW60PTdJ8P6np16V8R3FxFHdMszNJMWP7xZQTyAex6dqAPY6K5W68U6pcareWnh3Rlv4tPbZdTSXAiy+AdiDB3Ng98DPek1fxDLe6PZWmkLJDqWsJiFJUIa2XHzu47bf54oA6vOelGa878IahD4S+Hd5LIZLlba/njQFsvK3mYAz6k0s1/rGoeNvDaa5o8dkrC4ZGjuBKrAoMqeAc49sc0Aehbh6j86XPOK838X+CvC8cNnpWl+H9Ni1HVZxDHKtsu6JBzJJ06hQce5FWLm41DS/iNLaaBpYvnXSI1XzZhEiBXIG5sE8+woA9AoyD0NctYNpXj3SSNe0iF5rOZop7W5USCGUdcHofrWR4U8PaS/izV9W8P2Npp9vaodNtntYVXe4+aRzjrztUD/AGTQB6BmivKdW0rSdG1fSrGwN0PET3MYk1abennjOWDO2Q2f7oPGeAK9Ne4hn8y2t7uNbjaQNrAsh9ce1AFnIzjPNISB1IFefeFtLOkfFbXbc317fF9Ot5GlvJvMbcWfOOgA46AAVD4z0bRdPW81HWobrUL+7z9jnSJsWYGAqqwOIwODnIzQB6RkUVyH/CMjX9H0b+3743Vrb2qm4t92Y7iTaPmdgfmA54OQetY2nC50vw74rk8Jw7NLiLHT0klKRrhP3jxnBwobJAxjIoA9IzRmuO+H1laaN4Ttp7m0s9NuL1ElkdLgubk7QfMZmwSxySc1T+Id1JrOj6nounTBY4bRpr6RWOVGMqgx3OPyoA7zcPUUbh6iuV0/w3o2u+FNHbXNLtb8w2ibDcRh9o2jOM9K5C10mKw8N+MPEPhPT1sTcobaxWyj2sI4iVaRRjqzbiPYCgD1rIpMj1ry+yk8OaVrvhqTwteRpc3rCK6SKQv9oUrktJ6tkZyeazro6JKnii98UXUkes2dzIbOR5mSWABf3flAdAfYc96APYqKzfDl3Lf+GdNu7ht0s1rG7tjGSVBNaVABRRRQAUUUUAFFFFABXzz8T/8Akfr3/gP8q+hq8+8WfC1PEmtPqUOpG1kkA3o0W8cenIoA8Nr2f4J/8gDUP+vhf/Qapf8ACkB/0Gz/AOA//wBlXb+DPCUfhDS5bRLg3DyyeY0hXb2wBigDduv+POb/AK5t/KvLNB07xF4i+GtjocdvaQ6bdgCW880lxDvywCf3sDr0r1dlDKVYZBGCD3qGzsrbT7RLayhSCCMYSNBgKPYUAcXrXhvV38R3d3aabp+q211CkUQvZCPsYVdp2rgg5POetJofhHVNPsfCkVyId+lNMbko/HzbsbfXqK7yigDmNY0bUX8aaVrenxxTJBE9tNG77SquwJYeuAOlP1jwVpd7ouoWun2lvZ3F4oJnSMA7w25SfX5gDXSUUAcha6Vr2seIdN1DxDbWtommhiqwSlzK7DGfYD0qhd+G/EMOnah4e02K0bTL+VyLt5MPAkhy42dz1xXfUUAclfaFqelavYar4dgt7uSKz+w3EEz+XvjByrBuxB7eh9qp/wDCG6hN4eunuJY11e4vxqIVWPlo6kbUz6YUDNdzRQBylno+q6p4kXV/EEFvapDbNbw28T+YTv8AvMW/lWUnhfXzoMPhRo7VdJjlXde78u8KuGC7OzcYz0r0CigCguh6YuqHUhp9uL0nJuBGN54x1+lc7N4bvdW8QJNd2Nlp9hb3An/cAGa6YfdLEDge1djRQByEmm+IdD1PUpfD8FrewalN5+LiXYYJCAD25HGasz+CbHVPst1rrS3WpQ24ha5ileLIyScBSOMmumoNAHndh8OGtfCV9Ywt5N7LdNPEzzNInD7kzk/nV+HT/FGpeKNFvtVs7O0tdPEodYpt7MWUDI46cdK7SloA5620W5l8dXeuagsflw262tgobJCn5pHPoScD6LVHVNP8RWvjabWdGtrW6t3sVgMU0uxmYMTwewrr6SgDltJ0XVtJ8N6pIrRSazqEklwVDYjSRhgAH0H9K09I0T+yPDUemQzMJFiKmcAbi5HL/XJzWtRQBws+jeKdXsbTSNYS0MEEyvLqHmbnmCHIITHyscV1VvoGk2mqPqVvp9vHeyAh51QB2z1ya0KKAOds9FvIfiHqWsSBPslzYwQRkN825GcnI/4EKp6lbeLI5NQs7SO11GzvCfJluJNptwRgqVx8wHbFddRQBwuseH/EFt4V0rQdESK6to0Ed65m8p3QdVU9gf5Vo29rq9z4avdIfR7fS4/sbQWwjuRIMlSAOBwK6migDDtfDNlcaBpdnrtjb3ctlbpGPMUMFYKAcZ+lZOu/DjR73T9Seyt5VvbqJsEXUiqzbcDIBxiuzooA5OLw9faX8PV0fR/3d60KxM7zFghJAcgnPQZwK6HTdPh0rR7bT7ZQIraJYkHsBirdFAHG6d4Zu7rXob/VLDT9Ogs5Wkgt7IDdK54DuwA7E8VY8T6PqWr3X2awsrGKOaIxyalKA00SnqEGOv411VFAGXFBeaaLGx063iexhgKO7uQylRhAB3B70llca281oL+ytYo2iY3JjlLFHz8oX1GO9atFABRRRQAUhYL94gfWlrz34w3Vxa+FrcW0zxeZcANsbGRgmgD0ASoxADqSe2adXyza63qVjexXNtezLLE25SXJ5rqR8WPFH/Pe3/79f/XoA99pM1xnw28V3/ijS7t9TEfm28gUOgxuBHp+FXfHstwmgQ29rO1uby7itnkQ4YIx+bH4cUAdGlxDIxWOVHYdQrAkU9XViQrAlTggHpXKTeAtPtriwu/D6Lpt5aTo7SoT+/j6Mj8/NkHqe9ZVvr0Hhy88Z6jdDcseoRKqBgCzGJABk9OTQB6DRXG6L41nutch03VEsfMuYmkhNjdCbG3qreh/SoLjx5e6fqFr/adlZ21rcXS23k/agbpC7bVYp6ZoA7miuLufFevzarrVpo2j206aTIqtLNcFPMBjD4Ax15+lPuvHsY0fSLizjhFzq0e+JLmYRogA+Ys3oKAOxprSIrqjMAzZ2qTycVxUPxDVNH1CW+t4nvrKRIfKs5hJHM0mAm1vQk9+lVmu9bm+IHhldesLe2by7pla3n3qT5YyMHkEcfnQB6BTXdY0LyMFVRksTgAUp4FebeKvEur6x4K8QT6fpcLaVHBND5zT4kfAILKOmAaAPSgQQCDkHoaK5C613UdL0rS4bC1ttrWiSPd31wIoV4A2Z6lj1rF13xprF74FXU9AW3gnjvfs1y3m7grLIFOwgEMD6+hoA9JormdV13WNPhtY1tLJJnj3zXFzc+Xbo390E8kmrfhPxGnifRftixrFJHK8EqK+5Q6Ng4PccZBoA26K5nUPEOpyeIJ9J8PWENzLaRLJcyXEpRV3Z2qMDknFVdQ8a3FtY6aI7Bbe9vpGjKX0nlxxMvXLfy9aAOworkJfFup2Wix3+p6UkAS9S3uGWTcnlsQBKhHUZI6+9a9trb3fi290mGJWhsbeN5pgeRI5JVMf7oz+IoA2KKKKACiigUAFFFFABRRRQAUUUUAFFFFABRRRQAUUUUAFFFFABRRRQAUUUUAFecfGg/8AFL2g/wCnn/2U16PVTUtLstXtDbanbR3MJIOyQZGfWgD5WozX0l/wgHhb/oCW35H/ABo/4QDwt/0BLb8j/jQBynwTTGi6k+fvTKPyB/xrtvE2hnxBo5tI7g206SLNBMBnY6nIOO4q3pmlWOj2v2bTLWK1hyW2RrjJPc+tXKAOSWx8XaneWcWqy2NjZ20qyyvZSOZLnb/BggbVPU9fSqmpeBbjVIfEUUssMf2+7iurRz8wDIij519Ny9PSu4ooA4/QtC1WO4ZtQ0rRdOAhKebYAtI7EYyCQNo9ua52XwL4lksLPT2t9GKWl9DdNe7n864CSBiDkfKce5r1KigDntN0G5s9U8STyNGY9TmR4ME5AEKod3pyD+Fc8fAV7HoOgELZ3epaREYmguMmGYN1GcZB9DivQqKAOKn8IXepeHLy0lttN0u5eWOa2+xoSsboQw3HjdyPQcGlFj4muPEGmaxrdtYxw6ZHPmCydpJJC6AcFgB1HT9a7SigDm4fFktzMkLeGddiWQ7S8kMQVc9ziQnFYV74X8Sw+HdU8O6T/Zz2F4kvk3EzsHj35JUqBz165/CvQaKAOG1PwxrI1Sxv7KDTtRENiLZrW/ZgkTgg70wDnPfI7VWtPA2qx+ANQ0iaSzW+mv3vIfKyIfvBgMdVGQR3xXoVFAHD6xoHiG81my1eO10u8kW2EM1ldyMYonznehxz+IqTwtoOv+GvD9zAkenPdzak85VWZYvKd8tjjIIGcDkV2lFAHK3uka5p/iW61Xw8LS4jv4kS4t7qRk2ugIVwQDnggEe1JqWj+IZ9LtEM2n6nIrMbu3u4tqSg9lYAlcfQ11dFAHIaD4Qmg8PatYat5KR6k77bSBi0VspXACk8+/bmrngnQb7QtEca3cR3WqXMxluZ4xw2AFUfgqrXR0UAFFFFABQKKBQAUUUUAFFFFABRRRQAUUUUAFFFFABRRRQAUUUUAFFFFABRRRQAUUUUAFFFFABXO6z460HQdQNlqV2Y5woYqqE4Broq+d/idz4+vv8AgP8AKgD2XSfHvh/Wb9LOyvczSfcDqVDH0BPf2ro6+evCGpeH7fSNRs/EQlXzmjeCWFMvGy5+YHsRkV6x8PPEM+vaPOLmX7Q1pL5S3JXaZlxkMw7H1oA62g8Cig0AV31CziuBBJdwJM3SNpAGP4dal86PzvKLr5hG7Zu5x64rycWelaRZ3mnePNKuluLm4mk/t1YzIhDOSrlxzGQCBjAAxXRabCLf4j6fELprxU0TC3DkZlG8Ybj1oA7UzxiUxb18wAEpu5A9cVG2oWaXQtnu4FuG6RGQbj+HWuL1S5ksvH+uXUOPMg0ASpkcZUyEfyp+l+BdL1HwTb/aYw+pXdusz6gf9aJWG7cG6jBPT0oA7aWaOCIyTyLGg6s7AAfjTIbu3uITLbzRyxjq6OGH5iuNv7A6t4z0vRNYlF3a2mnmeVWO0TyghdxHfuce9aH/AAi0Gj3epX2mP9ntZ7Nkks0XCbwD849DigDa/tzSc4Gp2eemPtCf41PcXtraBTd3EUAY4XzXC5P415h4BbSJvCmiwXHhG6nmeFA159kjKE/3t27OPfFX9Ztl07xjqN94m0K51fSrlY/s00MfnC0wuGUx9Rk85GaAPRGljSPzGdQmM7ieMeuaZbXlteKWtJ4p1BwTG4YD8q88vtIS+8B27eGbmXWtNS8+0NaCTDSQ5OYQfY9j6Yq74Zl8NXniZZdFjuNF1GGFluNNmgMJmQ45KnhsEcFTQB3lFFFABRRRQAUUUUAFAooFABRRRQAUUUUAFFFFABRRRQAUUUUAFFFFABRRRQAUUUUAFFFFABRSUUALRSUUALXzx8Tf+R+vv+A/yr6HrhfFPwvsvEurtqIv5bWWQDeBGHBx+IxQB4Ma9o+Cv/IA1D/r4X/0Gov+FJWH/QXn/wC/I/xrsvCPhO28I6ZJaW0zzmWTzHkcYJ4xjFAGxd3DWtrJMlvLcsi5EUIG9/YZIGfqRWFb+J7y7uI7eXwnr1qkrbDPKLfbHnudsxOPoCa6OigDiW0XxlDps2jLf6ZqFjIjIl9emT7QitnhkAKuRng7l+lOfwhqGkNpN34auoJLrTrMWTx34YR3EfHJZclSCMjg12lFAHK6Z4YvJ9R1LU/E0ttJc6hbC0MFoG8uKIZ4DNyxOTk4FUoNA8YWGkroFhqWm/2ckfkxahIsn2qKPGANg+UsvQNuHQHHr29FAHL6r4avY59P1Hw7cRLqNhD9nH20sUuIsD5XYDIPGd2D9KdZaPrd1dXV/r11bLcS2zW8NpZuxhiB6kswBY574HFdNRQBwvh3TvG/h3w7ZaSlj4fnS0jEYlOoTKWA748g4P41pT2Hiuy1S5udGu7C8tbvDm01GSUfZnC4PluoOVP93aPrzXUUUAcTY+DtY0zRd2n6vHDqpu3vHCowtpHYcxsoOSnv171Zs9D1zUPFVlrPiRtOgGnRyLbQWBZ97SABmZ3UEDA4UD8eK62igAooooAKKKKACiiigAoFFAoAKKKKACiiigAooooAKKKKACiiigAooooAKKKKACiiigAooooABRRRQAlFLSUALXNa14+0LQNRax1CaQTqoZgibsZrpa+efid/yUC+/wCA/wAqAPXtI+Ifh/WtQjs7S4dZpDhPNTaGb+6D6+1dRXzz4R1jw/Z6TqVh4khndLrY0TwoC0bLn5gc8EZFer/DrxDNr2i3C3EzXJs5fKS5ddrTJjILD+96/wCTQB19FMmcxwSOOqqSM/SvPIfGvilPC9v4ovLLSm0kYa5hhaTzhHnG9STtz/s/qaAPRqK5HxJ4l1LTLwrbXGh6darGGjm1a52m5YjJCKrAgDjk9c8CqcvjbVL/AE3w9P4ftLN5dY3qRcu2yMqDkgjkjIPbmgDuqM4615/dXvimP4naRZzX1jHbyWbySwxxybGAZdxxv+91we3fNWPHPibTrnwVqcOj6va3FyrRQzJa3KO8avKqHIBOOGIoA6+11KxvmdbK8t7lozhxDKrlT74PFEmo2UN4lpNeW8dy/wB2FpVDt9Fzk1x2p2FnoHjjwz/ZFtHaiZpLeQRrgOmzOD61jRWNrqXw18QazeQLJfvLcyCdx86lGO3B6jGKAPTLq9tbGHzr65htos43zSBFz6ZNPW5ge2Fwk0bQFdwlDgqR656Yrz7Szb+JPHVimq2izra6DFcRrMd4Ekj8tjoTgYz9azblBb6ZqOiwfu9O/wCEhithbrwqxMELIPRck8UAen2moWeoIz2F3BdKp2s0MocA+hwaQanYm++xC9tzd4z9n81fM/75zmuI1OG08N/EO1bSrVLcXmmT+akOEVjGMqcevbNYq6daL8GbPXEgVNTiaK7S7H+sEplGW3dTkEigD1qo/Ph+0eR5qedt3eXuG7HrjriqI17R59TfSYtXsm1AAg2qXKGZeMn5M5GBz0rjtF0W00T4vTxWQlPnaZ5kryytIztv6ksTQB3VzqVjZzRw3d5bwSynEaSyqrP9ATzUtxcwWkLTXU0cMS/eeRwqj6k151fS6Ba+JNft/GkQN1eHNl5kRdprfYBthwDlgc/KOc81nW2pJceHvAureJTJLpYjkW6lmUlVlwFiaT06Hk8ZNAHqsNzBcwia3mjliIyHRwyn8RUdtqdjezPFZ3tvcSR/fSKVWK/UA8VwfhYadrWoeJ9N0mWWHSbjY0ZiQxgFgQzR5HQ469DzTZUs7Px3oOnWekPoy2pkC3twiqt2AuPLQqSGJ64bB4yBQB6PTJJY4Iy80ixoOrOwAH41x6+IvEerC/vPDlnp72FjcSQLHcl/NuzGcPtKnCc5AyGyR2qp8RtHtNW8HyareRXCzxwo8cLysoiJIPKA43DOM0Ad280UcBmkkRIgNxkZgFA9c0y2vLa9txPZ3EVxCekkThlP4iuF+Iv9oN8OLaOwktljle2jnWdGberOgA4I4z1z1FXtRnuLTSNP8L2X2aDVdRQozWabY7aIf6yYKSSOOFGT8xHoaAOtguYLqMvazRzIrFS0bhgCOo47im3V7a2MPm3tzDbR5xvmkCDP1NcV4FudI8L+F7+O9v7exs4NVuYkku51QcPx8zHrVPxat5rfjrw0thPpd3p0iyzQiWNpUYgDLEq2Dx0I6e9AHeT6xpltLHFc6jaRSSjMaSTqpf6Anmp7m6t7K3ae8nit4U+9JK4VV+pPFcF4v0rTtF0bVbqTw9dazNfxyPJOqI62w2gDJzvVB1+VWIweK1rHQdPvdB0C71O9W9h02zU7t6tBMdgHmHI5xgkH3oA6e3ure8t1ntJ454m+7JE4ZT9CKlFec6LqFvolj4h8SWMDR6TcTKLG32lFmYfLvA7KzEYP41v2Op+JLW8gbxBbaebCeNne4tC6/ZCBuxIXOCMZ+bjntQB09RR3UEs8kMU8byxY8yNXBZM9MjtWFf8AjPSv7Ge60TULTVJnlW2t0tJ1lDzN91SVJx6n0AJrm/B9qPD3irxPJf3BmlWCC4upifvOQxbGeg7AegFAHo1VbnVLCznSG7vraCWT7kcsyqzc44BPNee23xSMk9tcyX/h6W0urhIVsIL0Nexhm2hiN2CckZXAx61a0fTLLXrPxhdarbpdStqVxbB5ACyRxABFU9QARn2JoA9CorzaDx1JpfhDw1bm7063vr+1DG71SfZDGigAsxJBYnjAyM1r6D8RNIu7a6Gs6zo0ElrN5RuIbxfs82RkFGY46dskigDsqKZDPFcwJNbyJLFIoZJI2DKwPQgjqKfQAUUUUAJS0lFAC0lFFAC188fE7/koF99F/lX0PXEeJvhjp3iTVm1B7ue2mcDzNgDBvz6UAeB17R8FP+QBqH/Xwv8A6DQPgrpffUrk/wDARXXeFPC1r4T0x7OzkeXzJPMeR+pOMYoA2Lr/AI85v+ubfyrzDw1oWv8AiH4eafpb3dhFotwFM7oji4MQfLRgcrk4xuz+FeqEAggjIPUUyKGK3iEUEaRRqPlRFAA/AUAcfqPhjW4fEl9qWgTaYV1CJIpDfRMXgCrtxHt/hPUg45pujeC77TrLwzDNdQSNo7SmZlz+83Z+7x712oooA5vVtBvrjxdpmt6dLAGtY2gmin3AGNmBJUj+LjgHirus+HrTWNFvLAItsbpcGWJAGDA5B98EA1r0UAcnZaBrd7r1jqHia4sXGnKwhS0V/wB47DG9t2Nv0GfrVO78I66La+0fTb6zj0bUJWeRpFYzxK5y6qPunPYnpmu4ooA5jUvD+pW+o2Op+GprZbq3tjZyxXmQk0PVfmUEgq3PTByaqp4Imfw9cw3V3G2q3F59va4QMI1mBBUAZztAAFdjRQBzOn6Dqlz4g/tfxFPbGSO3NvBb2ZYoob7zEsAST6Y4rMTwZrJ0yPw7LfWo0GOUMHVW+0PGrBhGQflHIxuB6dq7migCH7HbC5Nx5EXnnrLsG7069axl0G4Hj0675sfkGyFt5fO7duzn0xW/iigDD8RWOuakn2PSbu1srWeJo553VmmTPGUAwM4zyTwe1PGl3OjeF7fTPDCW4e0hSGD7Y7bQqjGTgZJrZooA5iz8KXEGkakJtSf+1tT+aa9gTy9jYwoQA5Cj65qrH4c8QanqWlS+Ir2y8jS5fORbRXLTvtKgsW+7wTwM/WuxooA5FPD3iDSftlp4dvbGOxu55Jw9wjmW2aQ5YKBkOMkkZIxnvWh4l0K51rwfNpNvcKLiSNUE02eSMcnHrit6igDnvEPh+41jwtDpkMsaSpJA5d87f3bqx6D/AGas6p4S0DW50n1jSLO9mRNgknhDED05rYooA5Lwh4DsPDMd+DZWJkubyWVWiiHyxFsohyOwq/f6DLc+KdI1KBo0gsElVo8YJ3gAYwPat6igDlLvRvE8U1/BpWpWj2d6zMsl55jyWu5cEIOjDuBlce9UdX8IaynhTR/D3h+6tTY2aJFdrdsyNcooGFyqnAPcY6cV3NFAHKzaFq+uaBd6Vr8em2sLxqtubCR28tlOQcFVwBgcCrGmaf4ja5txrd5Y/ZbdCrRWiN/pBxgF93QdeBn610VFAGVqXhnRNXt1g1LSbO5iVt6pJCpAbGM9Pc1z+lfDXRtM8SapfRabYRW11CsUCRRBWi4IftxnI6V2tFAHHaR4c1/TPIsGm0mbT7dhtuWgJuGjBztK/dBxxuz+FLdeHNdtbzVI9Au7NLHVZDNMLkP5kEjAK5THBBC5wcck812FFAHG3vgmWCHR5dBltxeaTB9nUXkZaKeMgBt2OVORnIzWzpGm3gtpP7di055GfckVrD8kYx0y3LH3wK2aKAM+5j1NJJV042aQC1YQrIrZE38OcfwY7DmksV1dbsf2hJaNb/Z0yIVYN538R542+netGigAooooABRRRQAlFLSUALXLa78Q9C8Pam1jfvMZ1ALCKPcBn8a6mvnf4nj/AIr6+A/2f5UAeuaR8SPD+tajFZW800Ukx2xmeParN2XOep7DvXWV88eEdb0Cw0fU9O8SW088V3sKGJQShXPzA54PNeq/DfX59b0OdLid7oWcvlRXMgxJKmMguP7w6E9/1IB2VFMmcxwSOMZVSRn6V51F4y8WReEoPFV5b6TJpa4a5t4RIJvL3Y3qxOM99uD9aAPSKK5DxL4k1HTrzbZ32i2EAhDo+ouzNOxzkKqsNoHHJznPSqUvjXV9Q0vw5NoNtZCfWC6t9qLFIyoOSMckZH40Ad3mlJwMnpXAXc/ieP4naNayapaC3ktGeWCOGQI2CN3HmYJ64JHHvUvjnxNpt74L1W30jU4Z51aKGZYJQWRXlVGz+BIoA66y1jTdSaRdO1C1u2iOJFgmVyh9Dg8US6vpsF/HYz6haxXcn3Ld5lEjfRScmuR1ixs9F8c+FjpdrDaeY0ls4hQKDHs4U4rGhsbTUPhf4h1O6t45byWS5ka4kUFwyMdpDYyMYGKAPSr3UbLTbfz9RvILSHIXzLiURrk9Bk96el5bSWa3UdxE1uybxMrgoV9d3THvXAaQsGveP7D+1LSO4+yaBFPD5w37Xkf5mweM4AGevWsq9iSHTdQ0eBRHpx8Rw2/2VRhBE2wsgHZSSeBxzQB6fp+q6fq0LTaVf2t9ErbWe2mWRQfTKk81ObiFbhYGmjEzqWWMsNzAdSB+NcdNZWmmfE/TRp9qlst3YypMIB5YYKRtJA449apWug6dofxgsl06Dy2uNLmkmkZ2d5G8xBksxJNAHoVRfaYPtAt/Oj84ruEe8bseuOuKqHWtKm1B9LF/AbzBDW6yfOOM9Bz0rkNH0ew0X4sywabB5SvpYd2Z2d3bf1ZmJJP1NAHZ3er6bYXEUF9qFrbTTHEUc0yo0h/2QTk/hU11eW1jatc3txFbwJy0szhFX6k8CvP7uTRrHxF4it/F1mZp9Q5tWa2Mpmt9gGxCAeQc8evNZVleed4f8B6z4hSW40+GKQXDyqX2SEBYncfgeexNAHqtte2t5bLcWdxFPAwyJYnDKR9RxUFnrOmajcSwafqNpdTQ/wCsjhnV2T6gHIrifDKafruq+KdOsPOg0q52MFjTyuWBDMgxwDj8aZci3tfHXh/ToNH/ALGitC6w30saAXIC48pChPXrhsdMgUAejVHPcQ20RluZUhjXq8jBQPxNcgmv+JNZ+33vhuHT/sVlcyW6Q3SOZLsxnD7WU4TnIGQ3I5xVP4kaJYav4OfVdRtZvtUUSNFHJM+IGJBPyA7d3bOM8UAd3JcQxW5uJZY0hVdxkZgFA9c9MVHZ6hZ6jarc6fdwXcDZAlgkDqce44rh/iOl/J8OLaOxlt1ike2SdJ42cSKXQAcEcZ6g5yKuaveTWmk6f4Xt57O21G/j2SS2yCKO2hH+slVGJxxwoyeT3ANAHXWt5bX0bSWVxFcIrlGaJw4DA4IyO4PUUy91Gy0yDztRvILSLOPMnlCLn0yeK4nwHfaL4Z8L30M97b2lpBqtzFG0soxjecck1W8VJe6z498MPYXOmT2LrLLAs9u0qkgDLcOAeOhxx70Adxc+INGs5oYbzVrG3lnGYkluUVpB/sgnn8Ks3l9aadavc6hcw2tun35Z5AiL9SeBXEeL9MtNF0XV7mPw5LrM2pRyPczbEcRfKAAc/NsHUBQxGDWlp+haXP4f8P32o3i3sWlWYKSMytDIdgHmEEc4xweMfWgDprS9tdQtUubC5iuYHGVlhcOrfQjipq850i9i0Kx8R+KLO18rTrqVTZW20oJmHy78dgzEdu1b1lqHie0vYH16LTpdPnjZ5JrRXQ2mF3fPuJ3DGRkY57UAdRUEd7azXMtvDcxSTw482JHBaPPTI6jPvXP6p430qLRXutIvre+mklFtbrFIGDTN90E9h3PsDXOeDY7bw/4q8TNcXqXUot4Li5mVgfNfaxYgZ6dgOwAoA9Kqld61pdhdR21/qVpbTygGOKadUZ8nAwCcnnivPrX4nXEs9rdNd6LNbXdwkK6dDITdRKx2hic4Yg8lcD61d0TTrPW7Pxjcapax3Msmp3NuWmUMwjjACAHqAMZHoeaAPQaK8yt/HM+meEPDNoLuxtr2+tAzXeoMxijRMAkjILE9hkVs6D8Q9OuLW5/tzUtPie2m8r7TDJiCfIyCpPt1GTigDtKKZBPFc26T27rJFIoZHU5DA9CKfQAUUUUAJS5pMUYoAXNJS4pMUALXzx8Tv+R/vvov8q+h643xJ8M9J8Sao1/PPcW87gBzERhvzFAHz9XtPwV/5F+//wCvgf8AoNS/8KX0P/n8vf8Avpf8K6vwx4YsvCunPaWBd1kk8xnkOSTjH9KANW5/49Jv9xv5V5h4b8Oa34i+H2nabNqNrHosxVplWIiZow+THnpzj73WvVOvWmxxpEgSJFRR0VRgCgDktR8MawviK+1HQ7yyiTUIo45hdQl2iCrt+QjsR2Peo9I8FXOm2XhuCS8jlbR2lMrBT+83Z6fnXZ0UAc9rHh+7uvFGm61p9xFG9qpiljmUkNGxBOMd+DVvWvD9prOi3WnyIsK3Cbd8agFTnIP4EA1rUUAcpYeHdYuNbstQ8S31rcHT1YQJbRld7MMF2z3x2FU7vwZqrQX2k6fqUEOi6hKzzI0ZM0Yc5dUPTn36Zrt6KAOZ1Pw5ex6nZap4cuILe7t7c2kiXKkxyw9QDjkEMMg+5qtJ4Ia48PXFtc3gbUri7F810qYVZgRtwvoAAK6+igDmdJ0HU/7e/tnxDeQT3McJgt47ZCqIpOSTnkk1ZuNDkl8dWeuCZRFDZSWvl4O4szBs/T5a3aQjLKfQ0ANESKxYIob1ArFXQZh44bXfOQxGyFt5eDuzuzn6Vu0UAYfiLTdZ1VfsmnX8NlZTRNHcSbC03PXZ2HGeakOl3GleGoNM8MfZ4Gtokhg+07mVVAxzjknFbFJigDm7Xwm0OjajDLqEj6jqXzT3sa7CGxxtA6AelVIvDOuX+o6XL4h1K2kh0uTzYltoyGmfaVBcnpwTwK6/FGKAOT/4RzXNNe7tfD2o21vYXkzznzYiZLdnOW2djySeehNX/EmgTaz4Rm0e3uQkrxqgml5zjHJx9K3cUYoAwvEGgTax4Xi0uKZI5EeBi7A4PlurH89tWr/w3o2qzLNqmmWt3KqhQ80QYgenNalJigDmPCfguy8Nx3w+zWjPc3ksyNHEBtjZsqh+lXL/AEF7rxTpOpxSRxw2CSq0eOTvAAx+VbeKKAOUu9A8RRzX8OkarAlnfOXJuVZ5LfK4ITsR3waqax4M1RvC+j6DoN9BHY2KJHcpdBv9JRQMKSvQEjkV29FAHLzaDq2taFd6X4gawSGSMLCbIMPLYHIPOOmBxU2maV4gF3bnWdSt5Le2QqI7aMjziRgF89MegroqKAM+/wBB0rU4Vi1DTrW5jVtwWSIEA4xn9awNL+Hulab4j1O/jsrNILyFYoo4oQpiGCGx6ZzXX0UAcjpXhrXNMaGyF/YyabA42SNb5nKA52Ht7ZpLvwvrMF7qa6DqNvb2OquZZ0mjLPFIyhXZCOOQM4PeuvooA5C98EtDBpEmgzxQ3elQ/Z4zcx745Y8AEMO2cZyK2dJ068it5P7aa0nkd9ypbw7UjGOgzyfrWtRQBn3UOpeZKNPmt4ovsxWJXjJ2zfwscfw47UWUWrJdKb+4t5IPs6qyxxkMZv4mz/d9q0KKACiiigAooooAKKKKACiiigAooooAKKKKACiiigAooooAKKKKACiiigAooooAKKKKACiiigAooooAKKKKACiiigAoFFFABRRRQAUUUUAFFFFABRRRQAUUUUAFFFFABRRRQB//2Q==)"
      ],
      "metadata": {
        "id": "Hoa3xNZRarIS"
      }
    },
    {
      "cell_type": "markdown",
      "source": [
        "## How do I read them\n",
        "when there are several files?"
      ],
      "metadata": {
        "id": "jOx7kikdbF_6"
      }
    },
    {
      "cell_type": "code",
      "source": [
        "readData = spark.read.csv('/content/drive/MyDrive/myColab_Notebooks/Cleaned_Data_Single.csv/part-*.csv', header = True, inferSchema = True)"
      ],
      "metadata": {
        "id": "XzLKheiFbOSk"
      },
      "execution_count": null,
      "outputs": []
    },
    {
      "cell_type": "code",
      "source": [
        "# check the row\n",
        "\n",
        "readData.count()"
      ],
      "metadata": {
        "id": "o1fHeLlLbbYE"
      },
      "execution_count": null,
      "outputs": []
    }
  ],
  "metadata": {
    "colab": {
      "provenance": [],
      "authorship_tag": "ABX9TyONx31feiT3a+5BzptYlBxJ",
      "include_colab_link": true
    },
    "kernelspec": {
      "display_name": "Python 3",
      "name": "python3"
    },
    "language_info": {
      "name": "python"
    }
  },
  "nbformat": 4,
  "nbformat_minor": 0
}